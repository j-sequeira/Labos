{
 "cells": [
  {
   "cell_type": "code",
   "execution_count": 1,
   "id": "ec73510d-7f77-4ea4-affe-80163d5d9bb2",
   "metadata": {
    "tags": []
   },
   "outputs": [],
   "source": [
    "import pyvisa as visa\n",
    "import time\n",
    "import numpy as np\n",
    "from matplotlib import pyplot as plt\n",
    "import pandas as pd\n",
    "import os\n",
    "import math"
   ]
  },
  {
   "cell_type": "code",
   "execution_count": 2,
   "id": "d8a5b351-f10b-4e34-baff-8a9e10ebbbe1",
   "metadata": {
    "tags": []
   },
   "outputs": [],
   "source": [
    "rm = visa.ResourceManager()"
   ]
  },
  {
   "cell_type": "code",
   "execution_count": 3,
   "id": "4911db96-d476-458c-b805-9f2703909ae9",
   "metadata": {
    "tags": []
   },
   "outputs": [
    {
     "data": {
      "text/plain": [
       "('USB0::0x0699::0x0363::C108013::INSTR',\n",
       " 'ASRL1::INSTR',\n",
       " 'ASRL2::INSTR',\n",
       " 'ASRL3::INSTR',\n",
       " 'ASRL10::INSTR')"
      ]
     },
     "execution_count": 3,
     "metadata": {},
     "output_type": "execute_result"
    }
   ],
   "source": [
    "rm.list_resources()"
   ]
  },
  {
   "cell_type": "code",
   "execution_count": 4,
   "id": "d923f563-afc7-4bc2-ab20-c551e102ee81",
   "metadata": {
    "tags": []
   },
   "outputs": [
    {
     "name": "stdout",
     "output_type": "stream",
     "text": [
      "TEKTRONIX,TDS 1002B,C108013,CF:91.1CT FV:v22.13\n",
      "\n"
     ]
    }
   ],
   "source": [
    "osci=rm.open_resource('USB0::0x0699::0x0363::C108013::INSTR')\n",
    "print(osci.query('*IDN?'))"
   ]
  },
  {
   "cell_type": "code",
   "execution_count": 18,
   "id": "b661ecc3-10e7-4fd4-94be-3a7d483e8e7d",
   "metadata": {
    "tags": []
   },
   "outputs": [],
   "source": [
    "def save1(name,folder,autos=False):\n",
    "    time_s = time.time()\n",
    "\n",
    "    if autos:\n",
    "        osci.write('AUTOS exec')\n",
    "        time.sleep(6)\n",
    "\n",
    "    osci.write('DAT:SOU CH1')\n",
    "    xze, xin = osci.query_ascii_values('WFMPRE:XZE?;XIN?', separator=';')\n",
    "    osci.write('ACQ:STATE STOP')\n",
    "    yze1, ymu1, yoff1 = osci.query_ascii_values('WFMPRE:YZE?;YMU?;YOFF?;', separator=';')\n",
    "    \n",
    "    osci.write('DAT:ENC RPB')\n",
    "    osci.write('DAT:WID 1')\n",
    "\n",
    "    osci.write(\"DAT:SOU CH1\")\n",
    "    data1 = osci.query_binary_values('CURV?', datatype='B', container=np.array)\n",
    "    tiempo = xze + np.arange(len(data1)) * xin\n",
    "    data1v = (data1 - yoff1) * ymu1 + yze1\n",
    "\n",
    "    osci.write('ACQ:STATE RUN')\n",
    "\n",
    "    df = pd.DataFrame({'t':tiempo,'V1':data1v,})\n",
    "    plt.plot(df.t,df.V1)\n",
    "\n",
    "    plt.xlabel('t [s]')\n",
    "    plt.ylabel('V [V]')\n",
    "    plt.grid()\n",
    "    plt.show()\n",
    "    df.to_csv(f'{folder}/{name}.csv',index=False)\n",
    "    \n",
    "def save0(name,folder,autos=False):\n",
    "    time_s = time.time()\n",
    "\n",
    "    if autos:\n",
    "        osci.write('AUTOS exec')\n",
    "        time.sleep(6)\n",
    "\n",
    "    osci.write('DAT:SOU CH1')\n",
    "    xze, xin = osci.query_ascii_values('WFMPRE:XZE?;XIN?', separator=';')\n",
    "    osci.write('ACQ:STATE STOP')\n",
    "    yze1, ymu1, yoff1 = osci.query_ascii_values('WFMPRE:YZE?;YMU?;YOFF?;', separator=';')\n",
    "    \n",
    "    osci.write('DAT:ENC RPB')\n",
    "    osci.write('DAT:WID 1')\n",
    "\n",
    "    osci.write(\"DAT:SOU CH1\")\n",
    "    data1 = osci.query_binary_values('CURV?', datatype='B', container=np.array)\n",
    "    tiempo = xze + np.arange(len(data1)) * xin\n",
    "    data1v = (data1 - yoff1) * ymu1 + yze1\n",
    "\n",
    "    osci.write('ACQ:STATE RUN')\n",
    "\n",
    "    df = pd.DataFrame({'t':tiempo,'V1':data1v,})\n",
    "    df.to_csv(f'{folder}/{name}.csv',index=False)"
   ]
  },
  {
   "cell_type": "code",
   "execution_count": 11,
   "id": "58fac66f-20bf-46d4-8790-5da072e4146c",
   "metadata": {
    "tags": []
   },
   "outputs": [],
   "source": [
    "def plot():\n",
    "    time_s = time.time()\n",
    "\n",
    "    osci.write('DAT:SOU CH1')\n",
    "    xze, xin = osci.query_ascii_values('WFMPRE:XZE?;XIN?', separator=';')\n",
    "    osci.write('ACQ:STATE STOP')\n",
    "    yze1, ymu1, yoff1 = osci.query_ascii_values('WFMPRE:YZE?;YMU?;YOFF?;', separator=';')\n",
    "    \n",
    "    osci.write('DAT:ENC RPB')\n",
    "    osci.write('DAT:WID 1')\n",
    "\n",
    "    osci.write(\"DAT:SOU CH1\")\n",
    "    data1 = osci.query_binary_values('CURV?', datatype='B', container=np.array)\n",
    "    tiempo = xze + np.arange(len(data1)) * xin\n",
    "    data1v = (data1 - yoff1) * ymu1 + yze1\n",
    "\n",
    "    osci.write('ACQ:STATE RUN')\n",
    "\n",
    "    df = pd.DataFrame({'t':tiempo,'V1':data1v,})\n",
    "    plt.plot(df.t,df.V1,label='Datos')\n",
    "\n",
    "    plt.xlabel('t [s]')\n",
    "    plt.ylabel('V [V]')\n",
    "    plt.grid()\n",
    "    plt.tight_layout()\n",
    "#    plt.show()"
   ]
  },
  {
   "cell_type": "code",
   "execution_count": 14,
   "id": "a2e58d48-6b47-44d4-a1fd-56a6f4babc25",
   "metadata": {},
   "outputs": [
    {
     "data": {
      "text/plain": [
       "19"
      ]
     },
     "execution_count": 14,
     "metadata": {},
     "output_type": "execute_result"
    }
   ],
   "source": [
    "osci.write('HOR:MAI:SCA 0.025')"
   ]
  },
  {
   "cell_type": "code",
   "execution_count": 38,
   "id": "5e914d9d-b9a4-4adf-a08a-87af67681124",
   "metadata": {
    "tags": []
   },
   "outputs": [],
   "source": [
    "for i in range(400):\n",
    "    save0(f'{i}','plots/clase3/disco/tiempo coherencia/0.5 V')"
   ]
  },
  {
   "cell_type": "code",
   "execution_count": 42,
   "id": "6dca6e27-48ec-47c4-b643-8c91f45e2f02",
   "metadata": {},
   "outputs": [],
   "source": [
    "Ts_1k = {'1 mus' : 0.000001, '2.5 mus' : 0.0000025,\n",
    "         '5 mus' : 0.000005, '10 mus' : 0.00001,\n",
    "        '25 mus' : 0.000025, '50 mus' : 0.00005,\n",
    "        '100 mus' : 0.0001}\n",
    "\n",
    "for T in Ts_1k.keys():\n",
    "    osci.write(f'HOR:MAI:SCA {Ts_1k[T]}')\n",
    "    for i in range(400):\n",
    "        save0(f'{i}',f'plots/clase3/disco/mediciones/{T}')"
   ]
  },
  {
   "cell_type": "code",
   "execution_count": 22,
   "id": "ac303bdb-861e-4e04-b939-8e7a2f082ad9",
   "metadata": {
    "collapsed": true,
    "jupyter": {
     "outputs_hidden": true
    },
    "scrolled": true
   },
   "outputs": [
    {
     "ename": "KeyboardInterrupt",
     "evalue": "",
     "output_type": "error",
     "traceback": [
      "\u001b[1;31m---------------------------------------------------------------------------\u001b[0m",
      "\u001b[1;31mKeyboardInterrupt\u001b[0m                         Traceback (most recent call last)",
      "Cell \u001b[1;32mIn[22], line 7\u001b[0m\n\u001b[0;32m      5\u001b[0m osci\u001b[38;5;241m.\u001b[39mwrite(\u001b[38;5;124mf\u001b[39m\u001b[38;5;124m'\u001b[39m\u001b[38;5;124mHOR:MAI:SCA \u001b[39m\u001b[38;5;132;01m{\u001b[39;00mTs_9k[T]\u001b[38;5;132;01m}\u001b[39;00m\u001b[38;5;124m'\u001b[39m)\n\u001b[0;32m      6\u001b[0m \u001b[38;5;28;01mfor\u001b[39;00m i \u001b[38;5;129;01min\u001b[39;00m \u001b[38;5;28mrange\u001b[39m(\u001b[38;5;241m800\u001b[39m):\n\u001b[1;32m----> 7\u001b[0m     save0(\u001b[38;5;124mf\u001b[39m\u001b[38;5;124m'\u001b[39m\u001b[38;5;132;01m{\u001b[39;00mi\u001b[38;5;132;01m}\u001b[39;00m\u001b[38;5;124m'\u001b[39m,\u001b[38;5;124mf\u001b[39m\u001b[38;5;124m'\u001b[39m\u001b[38;5;124mplots/clase3/medir ventanas/\u001b[39m\u001b[38;5;132;01m{\u001b[39;00mT\u001b[38;5;132;01m}\u001b[39;00m\u001b[38;5;124m'\u001b[39m)\n",
      "Cell \u001b[1;32mIn[16], line 42\u001b[0m, in \u001b[0;36msave0\u001b[1;34m(name, folder, autos)\u001b[0m\n\u001b[0;32m     40\u001b[0m     xze, xin \u001b[38;5;241m=\u001b[39m osci\u001b[38;5;241m.\u001b[39mquery_ascii_values(\u001b[38;5;124m'\u001b[39m\u001b[38;5;124mWFMPRE:XZE?;XIN?\u001b[39m\u001b[38;5;124m'\u001b[39m, separator\u001b[38;5;241m=\u001b[39m\u001b[38;5;124m'\u001b[39m\u001b[38;5;124m;\u001b[39m\u001b[38;5;124m'\u001b[39m)\n\u001b[0;32m     41\u001b[0m \u001b[38;5;66;03m#    osci.write('ACQ:STATE STOP')\u001b[39;00m\n\u001b[1;32m---> 42\u001b[0m     yze1, ymu1, yoff1 \u001b[38;5;241m=\u001b[39m osci\u001b[38;5;241m.\u001b[39mquery_ascii_values(\u001b[38;5;124m'\u001b[39m\u001b[38;5;124mWFMPRE:YZE?;YMU?;YOFF?;\u001b[39m\u001b[38;5;124m'\u001b[39m, separator\u001b[38;5;241m=\u001b[39m\u001b[38;5;124m'\u001b[39m\u001b[38;5;124m;\u001b[39m\u001b[38;5;124m'\u001b[39m)\n\u001b[0;32m     44\u001b[0m     osci\u001b[38;5;241m.\u001b[39mwrite(\u001b[38;5;124m'\u001b[39m\u001b[38;5;124mDAT:ENC RPB\u001b[39m\u001b[38;5;124m'\u001b[39m)\n\u001b[0;32m     45\u001b[0m     osci\u001b[38;5;241m.\u001b[39mwrite(\u001b[38;5;124m'\u001b[39m\u001b[38;5;124mDAT:WID 1\u001b[39m\u001b[38;5;124m'\u001b[39m)\n",
      "File \u001b[1;32mC:\\ProgramData\\anaconda3\\Lib\\site-packages\\pyvisa\\resources\\messagebased.py:688\u001b[0m, in \u001b[0;36mMessageBasedResource.query_ascii_values\u001b[1;34m(self, message, converter, separator, container, delay)\u001b[0m\n\u001b[0;32m    685\u001b[0m \u001b[38;5;28;01mif\u001b[39;00m delay \u001b[38;5;241m>\u001b[39m \u001b[38;5;241m0.0\u001b[39m:\n\u001b[0;32m    686\u001b[0m     time\u001b[38;5;241m.\u001b[39msleep(delay)\n\u001b[1;32m--> 688\u001b[0m \u001b[38;5;28;01mreturn\u001b[39;00m \u001b[38;5;28mself\u001b[39m\u001b[38;5;241m.\u001b[39mread_ascii_values(converter, separator, container)\n",
      "File \u001b[1;32mC:\\ProgramData\\anaconda3\\Lib\\site-packages\\pyvisa\\resources\\messagebased.py:528\u001b[0m, in \u001b[0;36mMessageBasedResource.read_ascii_values\u001b[1;34m(self, converter, separator, container)\u001b[0m\n\u001b[0;32m    507\u001b[0m \u001b[38;5;250m\u001b[39m\u001b[38;5;124;03m\"\"\"Read values from the device in ascii format returning an iterable of\u001b[39;00m\n\u001b[0;32m    508\u001b[0m \u001b[38;5;124;03mvalues.\u001b[39;00m\n\u001b[0;32m    509\u001b[0m \n\u001b[1;32m   (...)\u001b[0m\n\u001b[0;32m    525\u001b[0m \n\u001b[0;32m    526\u001b[0m \u001b[38;5;124;03m\"\"\"\u001b[39;00m\n\u001b[0;32m    527\u001b[0m \u001b[38;5;66;03m# Use read rather than _read_raw because we cannot handle a bytearray\u001b[39;00m\n\u001b[1;32m--> 528\u001b[0m block \u001b[38;5;241m=\u001b[39m \u001b[38;5;28mself\u001b[39m\u001b[38;5;241m.\u001b[39mread()\n\u001b[0;32m    530\u001b[0m \u001b[38;5;28;01mreturn\u001b[39;00m util\u001b[38;5;241m.\u001b[39mfrom_ascii_block(block, converter, separator, container)\n",
      "File \u001b[1;32mC:\\ProgramData\\anaconda3\\Lib\\site-packages\\pyvisa\\resources\\messagebased.py:485\u001b[0m, in \u001b[0;36mMessageBasedResource.read\u001b[1;34m(self, termination, encoding)\u001b[0m\n\u001b[0;32m    483\u001b[0m \u001b[38;5;28;01mif\u001b[39;00m termination \u001b[38;5;129;01mis\u001b[39;00m \u001b[38;5;28;01mNone\u001b[39;00m:\n\u001b[0;32m    484\u001b[0m     termination \u001b[38;5;241m=\u001b[39m \u001b[38;5;28mself\u001b[39m\u001b[38;5;241m.\u001b[39m_read_termination\n\u001b[1;32m--> 485\u001b[0m     message \u001b[38;5;241m=\u001b[39m \u001b[38;5;28mself\u001b[39m\u001b[38;5;241m.\u001b[39m_read_raw()\u001b[38;5;241m.\u001b[39mdecode(enco)\n\u001b[0;32m    486\u001b[0m \u001b[38;5;28;01melse\u001b[39;00m:\n\u001b[0;32m    487\u001b[0m     \u001b[38;5;28;01mwith\u001b[39;00m \u001b[38;5;28mself\u001b[39m\u001b[38;5;241m.\u001b[39mread_termination_context(termination):\n",
      "File \u001b[1;32mC:\\ProgramData\\anaconda3\\Lib\\site-packages\\pyvisa\\resources\\messagebased.py:441\u001b[0m, in \u001b[0;36mMessageBasedResource._read_raw\u001b[1;34m(self, size)\u001b[0m\n\u001b[0;32m    434\u001b[0m     \u001b[38;5;28;01mwhile\u001b[39;00m status \u001b[38;5;241m==\u001b[39m loop_status:\n\u001b[0;32m    435\u001b[0m         logger\u001b[38;5;241m.\u001b[39mdebug(\n\u001b[0;32m    436\u001b[0m             \u001b[38;5;124m\"\u001b[39m\u001b[38;5;132;01m%s\u001b[39;00m\u001b[38;5;124m - reading \u001b[39m\u001b[38;5;132;01m%d\u001b[39;00m\u001b[38;5;124m bytes (last status \u001b[39m\u001b[38;5;132;01m%r\u001b[39;00m\u001b[38;5;124m)\u001b[39m\u001b[38;5;124m\"\u001b[39m,\n\u001b[0;32m    437\u001b[0m             \u001b[38;5;28mself\u001b[39m\u001b[38;5;241m.\u001b[39m_resource_name,\n\u001b[0;32m    438\u001b[0m             size,\n\u001b[0;32m    439\u001b[0m             status,\n\u001b[0;32m    440\u001b[0m         )\n\u001b[1;32m--> 441\u001b[0m         chunk, status \u001b[38;5;241m=\u001b[39m \u001b[38;5;28mself\u001b[39m\u001b[38;5;241m.\u001b[39mvisalib\u001b[38;5;241m.\u001b[39mread(\u001b[38;5;28mself\u001b[39m\u001b[38;5;241m.\u001b[39msession, size)\n\u001b[0;32m    442\u001b[0m         ret\u001b[38;5;241m.\u001b[39mextend(chunk)\n\u001b[0;32m    443\u001b[0m \u001b[38;5;28;01mexcept\u001b[39;00m errors\u001b[38;5;241m.\u001b[39mVisaIOError \u001b[38;5;28;01mas\u001b[39;00m e:\n",
      "File \u001b[1;32mC:\\ProgramData\\anaconda3\\Lib\\site-packages\\pyvisa\\ctwrapper\\functions.py:2336\u001b[0m, in \u001b[0;36mread\u001b[1;34m(library, session, count)\u001b[0m\n\u001b[0;32m   2334\u001b[0m buffer \u001b[38;5;241m=\u001b[39m create_string_buffer(count)\n\u001b[0;32m   2335\u001b[0m return_count \u001b[38;5;241m=\u001b[39m ViUInt32()\n\u001b[1;32m-> 2336\u001b[0m ret \u001b[38;5;241m=\u001b[39m library\u001b[38;5;241m.\u001b[39mviRead(session, buffer, count, byref(return_count))\n\u001b[0;32m   2337\u001b[0m \u001b[38;5;28;01mreturn\u001b[39;00m buffer\u001b[38;5;241m.\u001b[39mraw[: return_count\u001b[38;5;241m.\u001b[39mvalue], ret\n",
      "File \u001b[1;32mC:\\ProgramData\\anaconda3\\Lib\\site-packages\\pyvisa\\ctwrapper\\highlevel.py:184\u001b[0m, in \u001b[0;36mIVIVisaLibrary._return_handler\u001b[1;34m(self, ret_value, func, arguments)\u001b[0m\n\u001b[0;32m    181\u001b[0m     \u001b[38;5;28;01mfor\u001b[39;00m method_name \u001b[38;5;129;01min\u001b[39;00m \u001b[38;5;28mgetattr\u001b[39m(\u001b[38;5;28mself\u001b[39m\u001b[38;5;241m.\u001b[39mlib, \u001b[38;5;124m\"\u001b[39m\u001b[38;5;124m_functions\u001b[39m\u001b[38;5;124m\"\u001b[39m, []):\n\u001b[0;32m    182\u001b[0m         \u001b[38;5;28msetattr\u001b[39m(\u001b[38;5;28mself\u001b[39m, method_name, \u001b[38;5;28mgetattr\u001b[39m(\u001b[38;5;28mself\u001b[39m\u001b[38;5;241m.\u001b[39mlib, method_name))\n\u001b[1;32m--> 184\u001b[0m \u001b[38;5;28;01mdef\u001b[39;00m \u001b[38;5;21m_return_handler\u001b[39m(\u001b[38;5;28mself\u001b[39m, ret_value: \u001b[38;5;28mint\u001b[39m, func: Callable, arguments: \u001b[38;5;28mtuple\u001b[39m) \u001b[38;5;241m-\u001b[39m\u001b[38;5;241m>\u001b[39m Any:\n\u001b[0;32m    185\u001b[0m \u001b[38;5;250m    \u001b[39m\u001b[38;5;124;03m\"\"\"Check return values for errors and warnings.\"\"\"\u001b[39;00m\n\u001b[0;32m    186\u001b[0m     logger\u001b[38;5;241m.\u001b[39mdebug(\n\u001b[0;32m    187\u001b[0m         \u001b[38;5;124m\"\u001b[39m\u001b[38;5;132;01m%s\u001b[39;00m\u001b[38;5;132;01m%s\u001b[39;00m\u001b[38;5;124m -> \u001b[39m\u001b[38;5;132;01m%r\u001b[39;00m\u001b[38;5;124m\"\u001b[39m,\n\u001b[0;32m    188\u001b[0m         func\u001b[38;5;241m.\u001b[39m\u001b[38;5;18m__name__\u001b[39m,\n\u001b[1;32m   (...)\u001b[0m\n\u001b[0;32m    191\u001b[0m         extra\u001b[38;5;241m=\u001b[39m\u001b[38;5;28mself\u001b[39m\u001b[38;5;241m.\u001b[39m_logging_extra,\n\u001b[0;32m    192\u001b[0m     )\n",
      "\u001b[1;31mKeyboardInterrupt\u001b[0m: "
     ]
    }
   ],
   "source": [
    "Ts_9k = {'500 mus' : 0.0005,'2.5 ms' : 0.0025, '5 ms' : 0.005,\n",
    "         '10 ms' : 0.01}\n",
    "\n",
    "for T in Ts_9k.keys():\n",
    "    osci.write(f'HOR:MAI:SCA {Ts_9k[T]}')\n",
    "    for i in range(800):\n",
    "        save0(f'{i}',f'plots/clase3/medir ventanas/{T}')"
   ]
  },
  {
   "cell_type": "code",
   "execution_count": 18,
   "id": "8caa4536-5354-4e8a-b82c-acb67422a922",
   "metadata": {},
   "outputs": [
    {
     "data": {
      "text/plain": [
       "[<matplotlib.lines.Line2D at 0x25884728710>]"
      ]
     },
     "execution_count": 18,
     "metadata": {},
     "output_type": "execute_result"
    },
    {
     "data": {
      "image/png": "[encoded data removed]",
      "text/plain": [
       "<Figure size 640x480 with 1 Axes>"
      ]
     },
     "metadata": {},
     "output_type": "display_data"
    }
   ],
   "source": [
    "df = pd.read_csv(f'plots/clase3/ruidos ventanas/1 mus/{99}.csv')\n",
    "plt.plot(df.t,df.V1)"
   ]
  },
  {
   "cell_type": "code",
   "execution_count": 29,
   "id": "a18ee5ec-aa18-494e-b9b2-8c70d2e8a88b",
   "metadata": {},
   "outputs": [
    {
     "ename": "VisaIOError",
     "evalue": "VI_ERROR_SYSTEM_ERROR (-1073807360): Unknown system error (miscellaneous error).",
     "output_type": "error",
     "traceback": [
      "\u001b[1;31m---------------------------------------------------------------------------\u001b[0m",
      "\u001b[1;31mVisaIOError\u001b[0m                               Traceback (most recent call last)",
      "Cell \u001b[1;32mIn[29], line 1\u001b[0m\n\u001b[1;32m----> 1\u001b[0m save0(\u001b[38;5;124m'\u001b[39m\u001b[38;5;124mt_c\u001b[39m\u001b[38;5;124m'\u001b[39m,\u001b[38;5;124m'\u001b[39m\u001b[38;5;124mplots/clase3/disco\u001b[39m\u001b[38;5;124m'\u001b[39m)\n",
      "Cell \u001b[1;32mIn[16], line 39\u001b[0m, in \u001b[0;36msave0\u001b[1;34m(name, folder, autos)\u001b[0m\n\u001b[0;32m     36\u001b[0m         osci\u001b[38;5;241m.\u001b[39mwrite(\u001b[38;5;124m'\u001b[39m\u001b[38;5;124mAUTOS exec\u001b[39m\u001b[38;5;124m'\u001b[39m)\n\u001b[0;32m     37\u001b[0m         time\u001b[38;5;241m.\u001b[39msleep(\u001b[38;5;241m6\u001b[39m)\n\u001b[1;32m---> 39\u001b[0m     osci\u001b[38;5;241m.\u001b[39mwrite(\u001b[38;5;124m'\u001b[39m\u001b[38;5;124mDAT:SOU CH1\u001b[39m\u001b[38;5;124m'\u001b[39m)\n\u001b[0;32m     40\u001b[0m     xze, xin \u001b[38;5;241m=\u001b[39m osci\u001b[38;5;241m.\u001b[39mquery_ascii_values(\u001b[38;5;124m'\u001b[39m\u001b[38;5;124mWFMPRE:XZE?;XIN?\u001b[39m\u001b[38;5;124m'\u001b[39m, separator\u001b[38;5;241m=\u001b[39m\u001b[38;5;124m'\u001b[39m\u001b[38;5;124m;\u001b[39m\u001b[38;5;124m'\u001b[39m)\n\u001b[0;32m     41\u001b[0m \u001b[38;5;66;03m#    osci.write('ACQ:STATE STOP')\u001b[39;00m\n",
      "File \u001b[1;32mC:\\ProgramData\\anaconda3\\Lib\\site-packages\\pyvisa\\resources\\messagebased.py:196\u001b[0m, in \u001b[0;36mMessageBasedResource.write\u001b[1;34m(self, message, termination, encoding)\u001b[0m\n\u001b[0;32m    190\u001b[0m         warnings\u001b[38;5;241m.\u001b[39mwarn(\n\u001b[0;32m    191\u001b[0m             \u001b[38;5;124m\"\u001b[39m\u001b[38;5;124mwrite message already ends with \u001b[39m\u001b[38;5;124m\"\u001b[39m \u001b[38;5;124m\"\u001b[39m\u001b[38;5;124mtermination characters\u001b[39m\u001b[38;5;124m\"\u001b[39m,\n\u001b[0;32m    192\u001b[0m             stacklevel\u001b[38;5;241m=\u001b[39m\u001b[38;5;241m2\u001b[39m,\n\u001b[0;32m    193\u001b[0m         )\n\u001b[0;32m    194\u001b[0m     message \u001b[38;5;241m+\u001b[39m\u001b[38;5;241m=\u001b[39m term\n\u001b[1;32m--> 196\u001b[0m count \u001b[38;5;241m=\u001b[39m \u001b[38;5;28mself\u001b[39m\u001b[38;5;241m.\u001b[39mwrite_raw(message\u001b[38;5;241m.\u001b[39mencode(enco))\n\u001b[0;32m    198\u001b[0m \u001b[38;5;28;01mreturn\u001b[39;00m count\n",
      "File \u001b[1;32mC:\\ProgramData\\anaconda3\\Lib\\site-packages\\pyvisa\\resources\\messagebased.py:156\u001b[0m, in \u001b[0;36mMessageBasedResource.write_raw\u001b[1;34m(self, message)\u001b[0m\n\u001b[0;32m    142\u001b[0m \u001b[38;5;28;01mdef\u001b[39;00m \u001b[38;5;21mwrite_raw\u001b[39m(\u001b[38;5;28mself\u001b[39m, message: \u001b[38;5;28mbytes\u001b[39m) \u001b[38;5;241m-\u001b[39m\u001b[38;5;241m>\u001b[39m \u001b[38;5;28mint\u001b[39m:\n\u001b[0;32m    143\u001b[0m \u001b[38;5;250m    \u001b[39m\u001b[38;5;124;03m\"\"\"Write a byte message to the device.\u001b[39;00m\n\u001b[0;32m    144\u001b[0m \n\u001b[0;32m    145\u001b[0m \u001b[38;5;124;03m    Parameters\u001b[39;00m\n\u001b[1;32m   (...)\u001b[0m\n\u001b[0;32m    154\u001b[0m \n\u001b[0;32m    155\u001b[0m \u001b[38;5;124;03m    \"\"\"\u001b[39;00m\n\u001b[1;32m--> 156\u001b[0m     \u001b[38;5;28;01mreturn\u001b[39;00m \u001b[38;5;28mself\u001b[39m\u001b[38;5;241m.\u001b[39mvisalib\u001b[38;5;241m.\u001b[39mwrite(\u001b[38;5;28mself\u001b[39m\u001b[38;5;241m.\u001b[39msession, message)[\u001b[38;5;241m0\u001b[39m]\n",
      "File \u001b[1;32mC:\\ProgramData\\anaconda3\\Lib\\site-packages\\pyvisa\\ctwrapper\\functions.py:2795\u001b[0m, in \u001b[0;36mwrite\u001b[1;34m(library, session, data)\u001b[0m\n\u001b[0;32m   2793\u001b[0m return_count \u001b[38;5;241m=\u001b[39m ViUInt32()\n\u001b[0;32m   2794\u001b[0m \u001b[38;5;66;03m# [ViSession, ViBuf, ViUInt32, ViPUInt32]\u001b[39;00m\n\u001b[1;32m-> 2795\u001b[0m ret \u001b[38;5;241m=\u001b[39m library\u001b[38;5;241m.\u001b[39mviWrite(session, data, \u001b[38;5;28mlen\u001b[39m(data), byref(return_count))\n\u001b[0;32m   2796\u001b[0m \u001b[38;5;28;01mreturn\u001b[39;00m return_count\u001b[38;5;241m.\u001b[39mvalue, ret\n",
      "File \u001b[1;32mC:\\ProgramData\\anaconda3\\Lib\\site-packages\\pyvisa\\ctwrapper\\highlevel.py:226\u001b[0m, in \u001b[0;36mIVIVisaLibrary._return_handler\u001b[1;34m(self, ret_value, func, arguments)\u001b[0m\n\u001b[0;32m    223\u001b[0m         \u001b[38;5;66;03m# Set session back to a safe value\u001b[39;00m\n\u001b[0;32m    224\u001b[0m         session \u001b[38;5;241m=\u001b[39m \u001b[38;5;28;01mNone\u001b[39;00m\n\u001b[1;32m--> 226\u001b[0m \u001b[38;5;28;01mreturn\u001b[39;00m \u001b[38;5;28mself\u001b[39m\u001b[38;5;241m.\u001b[39mhandle_return_value(session, ret_value)\n",
      "File \u001b[1;32mC:\\ProgramData\\anaconda3\\Lib\\site-packages\\pyvisa\\highlevel.py:251\u001b[0m, in \u001b[0;36mVisaLibraryBase.handle_return_value\u001b[1;34m(self, session, status_code)\u001b[0m\n\u001b[0;32m    248\u001b[0m     \u001b[38;5;28mself\u001b[39m\u001b[38;5;241m.\u001b[39m_last_status_in_session[session] \u001b[38;5;241m=\u001b[39m rv\n\u001b[0;32m    250\u001b[0m \u001b[38;5;28;01mif\u001b[39;00m rv \u001b[38;5;241m<\u001b[39m \u001b[38;5;241m0\u001b[39m:\n\u001b[1;32m--> 251\u001b[0m     \u001b[38;5;28;01mraise\u001b[39;00m errors\u001b[38;5;241m.\u001b[39mVisaIOError(rv)\n\u001b[0;32m    253\u001b[0m \u001b[38;5;28;01mif\u001b[39;00m rv \u001b[38;5;129;01min\u001b[39;00m \u001b[38;5;28mself\u001b[39m\u001b[38;5;241m.\u001b[39missue_warning_on:\n\u001b[0;32m    254\u001b[0m     \u001b[38;5;28;01mif\u001b[39;00m session \u001b[38;5;129;01mand\u001b[39;00m rv \u001b[38;5;129;01mnot\u001b[39;00m \u001b[38;5;129;01min\u001b[39;00m \u001b[38;5;28mself\u001b[39m\u001b[38;5;241m.\u001b[39m_ignore_warning_in_session[session]:\n",
      "\u001b[1;31mVisaIOError\u001b[0m: VI_ERROR_SYSTEM_ERROR (-1073807360): Unknown system error (miscellaneous error)."
     ]
    }
   ],
   "source": [
    "save0('t_c','plots/clase3/disco')"
   ]
  }
 ],
 "metadata": {
  "kernelspec": {
   "display_name": "Python 3 (ipykernel)",
   "language": "python",
   "name": "python3"
  },
  "language_info": {
   "codemirror_mode": {
    "name": "ipython",
    "version": 3
   },
   "file_extension": ".py",
   "mimetype": "text/x-python",
   "name": "python",
   "nbconvert_exporter": "python",
   "pygments_lexer": "ipython3",
   "version": "3.11.5"
  }
 },
 "nbformat": 4,
 "nbformat_minor": 5
}
