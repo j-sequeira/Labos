{
 "cells": [
  {
   "cell_type": "code",
   "execution_count": 3,
   "id": "a4462cdd-5023-4d7e-8d54-6eb1326b4eb6",
   "metadata": {},
   "outputs": [],
   "source": [
    "import numpy as np\n",
    "import matplotlib.pyplot as plt\n",
    "import matplotlib as mpl\n",
    "from scipy.optimize import curve_fit as cf\n",
    "from scipy.integrate import quad"
   ]
  },
  {
   "cell_type": "code",
   "execution_count": 5,
   "id": "4003be71-6164-4c36-91f1-6dca70b84e43",
   "metadata": {},
   "outputs": [],
   "source": [
    "func = lambda x : 0.35*np.sin(50*x)"
   ]
  },
  {
   "cell_type": "code",
   "execution_count": null,
   "id": "7554680d-e048-453c-9a01-d4aee872548b",
   "metadata": {},
   "outputs": [],
   "source": []
  }
 ],
 "metadata": {
  "kernelspec": {
   "display_name": "Python 3 (ipykernel)",
   "language": "python",
   "name": "python3"
  },
  "language_info": {
   "codemirror_mode": {
    "name": "ipython",
    "version": 3
   },
   "file_extension": ".py",
   "mimetype": "text/x-python",
   "name": "python",
   "nbconvert_exporter": "python",
   "pygments_lexer": "ipython3",
   "version": "3.10.12"
  }
 },
 "nbformat": 4,
 "nbformat_minor": 5
}
