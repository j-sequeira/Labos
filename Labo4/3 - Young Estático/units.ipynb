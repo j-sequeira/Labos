{
 "cells": [
  {
   "cell_type": "code",
   "execution_count": 1,
   "id": "e1a98fce-f01d-4cee-b221-89962195cd2b",
   "metadata": {},
   "outputs": [],
   "source": [
    "import os\n",
    "os.environ['PINT_ARRAY_PROTOCOL_FALLBACK'] = \"0\"\n",
    "import pint\n",
    "ureg = pint.UnitRegistry()\n",
    "Q_ = ureg.Quantity\n",
    "import warnings\n",
    "with warnings.catch_warnings():\n",
    "    warnings.simplefilter(\"ignore\")\n",
    "    Q_([])"
   ]
  },
  {
   "cell_type": "code",
   "execution_count": 6,
   "id": "cb1f3236-43ed-40c9-bd43-bd9cf3a3a161",
   "metadata": {},
   "outputs": [
    {
     "name": "stdout",
     "output_type": "stream",
     "text": [
      "5951.25 micrometer ** 2 / nanometer\n"
     ]
    }
   ],
   "source": [
    "D_estimator = 10*(690*ureg.micrometer)**2/(800*ureg.nanometer)\n",
    "print(D_estimator)"
   ]
  },
  {
   "cell_type": "code",
   "execution_count": 7,
   "id": "7b62e247-a55e-4290-8302-baab1d3679d0",
   "metadata": {},
   "outputs": [
    {
     "data": {
      "text/html": [
       "5.951249999999999 meter"
      ],
      "text/latex": [
       "$5.951249999999999\\ \\mathrm{meter}$"
      ],
      "text/plain": [
       "5.951249999999999 <Unit('meter')>"
      ]
     },
     "execution_count": 7,
     "metadata": {},
     "output_type": "execute_result"
    }
   ],
   "source": [
    "D_estimator.to_base_units()"
   ]
  },
  {
   "cell_type": "code",
   "execution_count": null,
   "id": "87f86e97-b67a-43c9-bd64-ad3844351bf3",
   "metadata": {},
   "outputs": [],
   "source": []
  }
 ],
 "metadata": {
  "kernelspec": {
   "display_name": "Python 3 (ipykernel)",
   "language": "python",
   "name": "python3"
  },
  "language_info": {
   "codemirror_mode": {
    "name": "ipython",
    "version": 3
   },
   "file_extension": ".py",
   "mimetype": "text/x-python",
   "name": "python",
   "nbconvert_exporter": "python",
   "pygments_lexer": "ipython3",
   "version": "3.10.12"
  }
 },
 "nbformat": 4,
 "nbformat_minor": 5
}
