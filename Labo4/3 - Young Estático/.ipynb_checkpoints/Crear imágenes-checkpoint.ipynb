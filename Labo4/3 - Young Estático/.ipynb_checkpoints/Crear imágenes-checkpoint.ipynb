{
 "cells": [
  {
   "cell_type": "code",
   "execution_count": 30,
   "metadata": {
    "colab": {
     "base_uri": "https://localhost:8080/"
    },
    "executionInfo": {
     "elapsed": 8388,
     "status": "ok",
     "timestamp": 1719099385600,
     "user": {
      "displayName": "Joaquin Sequeira",
      "userId": "08106637760305455645"
     },
     "user_tz": 180
    },
    "id": "nHdwrXawe3gE",
    "outputId": "a2c2e11a-e950-4b25-bf05-0d3c5076447f"
   },
   "outputs": [
    {
     "name": "stdout",
     "output_type": "stream",
     "text": [
      "Mounted at /content/drive\n"
     ]
    }
   ],
   "source": [
    "import os\n",
    "\n",
    "# Montar Google Drive\n",
    "from google.colab import drive\n",
    "drive.flush_and_unmount()\n",
    "drive.mount('/content/drive', force_remount=True)\n",
    "home_dir = '/content/drive/MyDrive/Labo 4/3 - Young Estático'"
   ]
  },
  {
   "cell_type": "code",
   "execution_count": 31,
   "metadata": {
    "executionInfo": {
     "elapsed": 17,
     "status": "ok",
     "timestamp": 1719099385601,
     "user": {
      "displayName": "Joaquin Sequeira",
      "userId": "08106637760305455645"
     },
     "user_tz": 180
    },
    "id": "Uap4XKAWb3Bj"
   },
   "outputs": [],
   "source": [
    "import numpy as np\n",
    "import scipy as sp\n",
    "# import matplotlib.pyplot as plt\n",
    "import cv2\n",
    "from google.colab.patches import cv2_imshow\n",
    "\n",
    "#from IPython.display import display, Image, clear_output\n",
    "#from time import sleep\n",
    "\n",
    "#%% DEFINO FUNCIONES\n",
    "\n",
    "def extract_red_segment(file_name, ti, tf):\n",
    "    # Configuración del video\n",
    "    cap = cv2.VideoCapture(file_name)\n",
    "    if not cap.isOpened():\n",
    "        print(f\"Error: No se puede abrir el archivo {file_name}\")\n",
    "        return None, 0\n",
    "\n",
    "    fps = cap.get(cv2.CAP_PROP_FPS)  # Frames por segundo\n",
    "    total_frames = int(cap.get(cv2.CAP_PROP_FRAME_COUNT))    # Número total de frames\n",
    "\n",
    "    if fps == 0 or total_frames == 0:\n",
    "        print(\"Error: El archivo de video no contiene información válida de FPS o frames.\")\n",
    "        return None, 0\n",
    "\n",
    "    print(f\"FPS: {fps}\")\n",
    "    print(f\"Total Frames: {total_frames}\")\n",
    "\n",
    "    # Calcular el frame inicial y final\n",
    "    start_frame = int(ti * fps)\n",
    "    end_frame = int(tf * fps)\n",
    "\n",
    "    # Asegurarse de que los frames estén dentro del rango del video\n",
    "    start_frame = min(max(0, start_frame), total_frames - 1)\n",
    "    end_frame = min(max(0, end_frame), total_frames - 1)\n",
    "\n",
    "    # Array para almacenar los frames de color rojo\n",
    "    frames_red_channel = []\n",
    "\n",
    "    # Leer frames desde start_frame hasta end_frame\n",
    "    cap.set(cv2.CAP_PROP_POS_FRAMES, start_frame)\n",
    "\n",
    "    for frame_num in range(start_frame, end_frame + 1):\n",
    "        ret, frame = cap.read()\n",
    "        if not ret:\n",
    "            print(f\"Error: No se puede leer el frame {frame_num}\")\n",
    "            break\n",
    "        # Extraer el canal rojo\n",
    "        red_channel = frame[:, :, 2]  # El 3er canal (índice 2) es el rojo en OpenCV\n",
    "        frames_red_channel.append(red_channel)\n",
    "\n",
    "    # Convertir la lista de frames en un array de NumPy\n",
    "    frames_red_channel = np.array(frames_red_channel)\n",
    "\n",
    "    # Liberar el video\n",
    "    cap.release()\n",
    "\n",
    "    return frames_red_channel, fps\n",
    "def show_frames(frames, fps):\n",
    "    # Loop para mostrar cada frame con un pequeño retraso entre cada uno\n",
    "    for frame in frames:\n",
    "        # Mostrar el frame\n",
    "        cv2_imshow('Video', frame)\n",
    "\n",
    "       # Esperar un breve tiempo (aproximadamente 1/FPS segundos)\n",
    "        if cv2.waitKey(int(1000 / fps)) & 0xFF == ord('q'):\n",
    "            break  # Salir si se presiona 'q'\n",
    "\n",
    "    # Cerrar la ventana al finalizar la reproducción\n",
    "    cv2.destroyAllWindows()\n",
    "\n",
    "#def show_frames(frames, fps):\n",
    "#    for i, frame in enumerate(frames):\n",
    "#        # Convert the frame to JPEG format\n",
    "#        _, jpeg = cv2.imencode('.jpg', frame)\n",
    "#        jpeg_bytes = jpeg.tobytes()\n",
    "#        display(Image(data=jpeg_bytes))\n",
    "#        sleep(1 / fps)\n",
    "#        clear_output(wait=True)\n",
    "\n",
    "def lockin(video, fps, f):\n",
    "    num_frames = video.shape[0]\n",
    "    x = np.arange(num_frames) / fps\n",
    "\n",
    "    sine_wave = np.sin(2 * np.pi * f * x)\n",
    "    cos_wave  = np.cos(2 * np.pi * f * x)\n",
    "\n",
    "    height = int(len(video_m0[0,0,:]))\n",
    "    width = int(len(video_m0[0,:]))\n",
    "\n",
    "    a = np.zeros((width, height))\n",
    "    b = np.zeros((width, height))\n",
    "\n",
    "    for i in range(num_frames):\n",
    "        a += video[i, :, :] * sine_wave[i]\n",
    "        b += video[i, :, :] *  cos_wave[i]\n",
    "\n",
    "    C = np.sqrt((a**2) + (b**2))/fps\n",
    "\n",
    "    return C\n",
    "\n",
    "def save_images(imagen,name,dir,save_csv=False):\n",
    "    #%% Guardo las imagenes\n",
    "    cv2.imwrite(f'{home_dir}/images/{dir}/{name}.png', imagen_m0)\n",
    "    #%% Guardo las imagenes como .CSV\n",
    "    if save_csv:\n",
    "        np.savetxt(f'{home_dir}/images/{dir}/{name}.csv', imagen_m0, delimiter=',')"
   ]
  },
  {
   "cell_type": "code",
   "execution_count": 32,
   "metadata": {
    "executionInfo": {
     "elapsed": 15,
     "status": "ok",
     "timestamp": 1719099385602,
     "user": {
      "displayName": "Joaquin Sequeira",
      "userId": "08106637760305455645"
     },
     "user_tz": 180
    },
    "id": "mPDS1NSKjrkl"
   },
   "outputs": [],
   "source": [
    "def list_files(folder,type):\n",
    "    files = os.listdir(f'{home_dir}/{folder}')\n",
    "    names = []\n",
    "    for i in range(len(files)):\n",
    "        if files[i].endswith(f'.{type}'):\n",
    "            names.append(files[i][:-4])\n",
    "    return names"
   ]
  },
  {
   "cell_type": "code",
   "execution_count": 43,
   "metadata": {
    "colab": {
     "base_uri": "https://localhost:8080/"
    },
    "executionInfo": {
     "elapsed": 309,
     "status": "ok",
     "timestamp": 1719100161864,
     "user": {
      "displayName": "Joaquin Sequeira",
      "userId": "08106637760305455645"
     },
     "user_tz": 180
    },
    "id": "dsTAObc4hdj_",
    "outputId": "e0f9a899-1f44-4ae3-fd46-e26a42d6fb11"
   },
   "outputs": [
    {
     "data": {
      "text/plain": [
       "['IMG_4402',\n",
       " 'IMG_4403',\n",
       " 'IMG_4404',\n",
       " 'IMG_4405',\n",
       " 'IMG_4406',\n",
       " 'IMG_4407',\n",
       " 'IMG_4408',\n",
       " 'IMG_4409',\n",
       " 'IMG_4410',\n",
       " 'IMG_4411',\n",
       " 'IMG_4412']"
      ]
     },
     "execution_count": 43,
     "metadata": {},
     "output_type": "execute_result"
    }
   ],
   "source": [
    "names = list_files('Videos Clase 3/vídeos con chopper 1','MOV')\n",
    "names"
   ]
  },
  {
   "cell_type": "code",
   "execution_count": 44,
   "metadata": {
    "colab": {
     "base_uri": "https://localhost:8080/"
    },
    "executionInfo": {
     "elapsed": 309158,
     "status": "ok",
     "timestamp": 1719100472347,
     "user": {
      "displayName": "Joaquin Sequeira",
      "userId": "08106637760305455645"
     },
     "user_tz": 180
    },
    "id": "am2FAcztvQxz",
    "outputId": "70e4ccb6-11e6-45a8-bb19-812ba1078822"
   },
   "outputs": [
    {
     "name": "stdout",
     "output_type": "stream",
     "text": [
      "FPS: 240.37346159287029\n",
      "Total Frames: 1416\n",
      "FPS: 240.37456741534913\n",
      "Total Frames: 1476\n",
      "FPS: 240.365774003919\n",
      "Total Frames: 1380\n",
      "FPS: 240.37755637126378\n",
      "Total Frames: 1337\n",
      "FPS: 240.363436123348\n",
      "Total Frames: 1455\n",
      "FPS: 240.3711613520878\n",
      "Total Frames: 1360\n",
      "FPS: 240.3658536585366\n",
      "Total Frames: 1314\n",
      "FPS: 240.37244837053836\n",
      "Total Frames: 1678\n",
      "FPS: 240.36657211433558\n",
      "Total Frames: 1377\n",
      "FPS: 240.3654485049834\n",
      "Total Frames: 1447\n",
      "FPS: 240.37533147480792\n",
      "Total Frames: 1473\n"
     ]
    }
   ],
   "source": [
    "for name in names:\n",
    "    video_m0, fps_m0 = extract_red_segment(f'{home_dir}/Videos Clase 3/vídeos con chopper 1/{name}.MOV', 0, 5)\n",
    "    imagen_m0 = lockin(video_m0, fps_m0, 20)\n",
    "    save_images(imagen_m0,name,'luz prendida 1/0')\n",
    "    imagen_m0 = lockin(video_m0, fps_m0, 20)*255\n",
    "    save_images(imagen_m0,name,'luz prendida 1/255')"
   ]
  },
  {
   "cell_type": "code",
   "execution_count": 35,
   "metadata": {
    "colab": {
     "base_uri": "https://localhost:8080/"
    },
    "executionInfo": {
     "elapsed": 17,
     "status": "ok",
     "timestamp": 1719099572510,
     "user": {
      "displayName": "Joaquin Sequeira",
      "userId": "08106637760305455645"
     },
     "user_tz": 180
    },
    "id": "GfE41XR5AlkE",
    "outputId": "86af5ee9-b1b4-4a1d-b7b3-fc5bc68f3d72"
   },
   "outputs": [
    {
     "data": {
      "text/plain": [
       "['20240613_125432']"
      ]
     },
     "execution_count": 35,
     "metadata": {},
     "output_type": "execute_result"
    }
   ],
   "source": [
    "names = list_files('./','mp4')\n",
    "names"
   ]
  },
  {
   "cell_type": "code",
   "execution_count": 36,
   "metadata": {
    "colab": {
     "base_uri": "https://localhost:8080/"
    },
    "executionInfo": {
     "elapsed": 8894,
     "status": "ok",
     "timestamp": 1719099581393,
     "user": {
      "displayName": "Joaquin Sequeira",
      "userId": "08106637760305455645"
     },
     "user_tz": 180
    },
    "id": "7TkOvouaA16E",
    "outputId": "332906ca-f741-43c8-e37c-8ed6cf0451d9"
   },
   "outputs": [
    {
     "name": "stdout",
     "output_type": "stream",
     "text": [
      "FPS: 120.01922788663816\n",
      "Total Frames: 774\n"
     ]
    }
   ],
   "source": [
    "video_m0, fps_m0 = extract_red_segment(f'{home_dir}/{names[0]}.mp4', 0, 5)\n",
    "imagen_m0 = lockin(video_m0, fps_m0, 21)\n",
    "save_images(imagen_m0,'continua','./')"
   ]
  },
  {
   "cell_type": "code",
   "execution_count": null,
   "metadata": {
    "id": "MR0a0SK0BX-e"
   },
   "outputs": [],
   "source": [
    "cv2.imwrite(f'{home_dir}/images/{dir}/{name}.jpg', imagen_m0)"
   ]
  }
 ],
 "metadata": {
  "accelerator": "TPU",
  "colab": {
   "authorship_tag": "ABX9TyMuw+h2JttzjJ4sA0Sfxr4n",
   "gpuType": "V28",
   "mount_file_id": "13YwoW9PdN4vH7RAEfaHWJ17HdQzscxZ0",
   "provenance": []
  },
  "kernelspec": {
   "display_name": "Python 3 (ipykernel)",
   "language": "python",
   "name": "python3"
  },
  "language_info": {
   "name": "python"
  }
 },
 "nbformat": 4,
 "nbformat_minor": 0
}
