{
 "cells": [
  {
   "cell_type": "code",
   "execution_count": 18,
   "id": "11e27dd4-a560-4f99-833c-8b16ea4b8248",
   "metadata": {},
   "outputs": [],
   "source": [
    "import numpy as np\n",
    "import matplotlib.pyplot as plt\n",
    "from pandas import read_csv\n",
    "\n",
    "def leermd(filename):\n",
    "    result = []\n",
    "    df = read_csv(filename, sep='\\t', skiprows=3, decimal=',')\n",
    "    nparray = df.values\n",
    "    nparray = nparray[~np.isnan(nparray).any(axis=1)]\n",
    "    for cols in range(nparray.shape[1]):\n",
    "        out = nparray[:,cols]\n",
    "        result.append(out)\n",
    "    return result\n",
    "\n",
    "def temp_calc(filename,n):\n",
    "    ts,ph = leermd(filename)\n",
    "    dph = np.diff(ph)\n",
    "    \n",
    "    idx_i = np.where(dph<-2.5)[0]\n",
    "    idx_d = np.where(dph>2.5)[0]\n",
    "    \n",
    "    idx_par_i = []\n",
    "    idx_par_d = []\n",
    "    for i in range(int(len(idx_i)/2)):\n",
    "        idx_par_i.append(idx_i[2*i+1])\n",
    "        idx_par_d.append(idx_d[2*i+1])\n",
    "    temps = []\n",
    "    for i in range(len(idx_par_d)):\n",
    "        temps.append((ts[idx_par_i[i]]+ts[idx_par_d[i]])/2)\n",
    "    prd = np.diff(temps)[0:n]\n",
    "    return prd\n",
    "\n",
    "def t_prom(filename,n):\n",
    "    prd_tot = temp_calc(filename,n)\n",
    "    return np.mean(prd_tot)"
   ]
  },
  {
   "cell_type": "code",
   "execution_count": 19,
   "id": "c90526e0-c023-482a-9d17-f5f66393b14c",
   "metadata": {},
   "outputs": [],
   "source": [
    "L_min = 40\n",
    "L_max = 150\n",
    "L_list = np.arange(L_min,L_max+10,10)\n",
    "n = 40\n",
    "\n",
    "lengths = L_list/100\n",
    "\n",
    "T_list = []\n",
    "for i in range(len(L_list)):\n",
    "    T_list.append(t_prom(str(int(L_list[i]))+'.txt',n))"
   ]
  },
  {
   "cell_type": "code",
   "execution_count": 20,
   "id": "55ab5e3e-02c8-4c04-9569-09fb6d9e6b48",
   "metadata": {},
   "outputs": [
    {
     "name": "stdout",
     "output_type": "stream",
     "text": [
      "12\n",
      "0\n"
     ]
    },
    {
     "data": {
      "image/png": "[encoded data removed]",
      "text/plain": [
       "<Figure size 432x288 with 1 Axes>"
      ]
     },
     "metadata": {
      "needs_background": "light"
     },
     "output_type": "display_data"
    }
   ],
   "source": [
    "x = lengths\n",
    "y = []\n",
    "for i in range(len(T_list)):\n",
    "    y.append(T_list[i]**2)\n",
    "dx = np.loadtxt('errores_x.txt')\n",
    "dy = np.loadtxt('errores_y.txt')\n",
    "\n",
    "plt.errorbar(x,y,xerr=dx,yerr=dy,fmt='ko',ecolor='r')\n",
    "plt.xlabel('L[cm]')\n",
    "plt.ylabel('T²[s²]')\n",
    "plt.grid()\n",
    "\n",
    "err_rel_x = dx/x\n",
    "err_rel_y = dy/y\n",
    "print(sum(err_rel_x > err_rel_y))\n",
    "print(sum(err_rel_x < err_rel_y))"
   ]
  },
  {
   "cell_type": "code",
   "execution_count": 25,
   "id": "44ff3ca2-aaf3-40ae-9213-191f76df771d",
   "metadata": {},
   "outputs": [
    {
     "data": {
      "image/png": "[encoded data removed]",
      "text/plain": [
       "<Figure size 432x288 with 2 Axes>"
      ]
     },
     "metadata": {
      "needs_background": "light"
     },
     "output_type": "display_data"
    }
   ],
   "source": [
    "pars,cov = np.polyfit(x,y,deg=1,cov=True)\n",
    "a, b = pars\n",
    "Sa, Sb = np.sqrt(np.diag(cov))\n",
    "err_a = cov[0,0]\n",
    "\n",
    "y_aj = a*x+b\n",
    "\n",
    "ax1 = plt.subplot(2,1,1)\n",
    "plt.errorbar(x,y,xerr=dx,yerr=dy,fmt='ko',ecolor='r',label='mediciones')\n",
    "plt.plot(x,y_aj,'g',label='ajuste')\n",
    "plt.xlabel('L[cm]')\n",
    "plt.ylabel('T²[s²]')\n",
    "plt.legend()\n",
    "plt.grid()\n",
    "\n",
    "ax2 = plt.subplot(2,1,2, sharex=ax1)\n",
    "plt.errorbar(x,y-y_aj,xerr=dx,yerr=dy,fmt='ko',ecolor='r')\n",
    "plt.ylabel('Residuos[s²]')\n",
    "plt.grid()"
   ]
  },
  {
   "cell_type": "code",
   "execution_count": 39,
   "id": "5e349c91-8728-4165-a8d3-64b0ec463fcb",
   "metadata": {},
   "outputs": [
    {
     "name": "stdout",
     "output_type": "stream",
     "text": [
      "g = 9.8328 ± 0.0006\n"
     ]
    }
   ],
   "source": [
    "from math import floor\n",
    "\n",
    "g0 = 4*np.pi**2/a\n",
    "dg = 4*np.pi**2/a**2 * err_a\n",
    "print('g = ' + str(round(g0,-int(floor(np.log10(abs(dg)))))) + ' ± ' + str(round(dg,-int(floor(np.log10(abs(dg)))))))"
   ]
  },
  {
   "cell_type": "code",
   "execution_count": 27,
   "id": "2af93605-1e0a-4343-826b-95fb5826b488",
   "metadata": {},
   "outputs": [],
   "source": [
    "# residuos\n",
    "res_sq = (y - y_aj) ** 2\n",
    "\n",
    "# variabilidad intrínseca\n",
    "ss_tot = np.sum((y - np.mean(y)) ** 2)\n",
    "\n",
    "# R²\n",
    "r2 = 1 - (np.sum(res_sq) / ss_tot)\n",
    "\n",
    "# χ²\n",
    "ss = res_sq/dy**2\n",
    "ch2 = np.sum(ss)/(len(y)-2)\n",
    "\n",
    "# pearson\n",
    "from scipy.stats import pearsonr\n",
    "rp = pearsonr(x, y)[0]"
   ]
  }
 ],
 "metadata": {
  "kernelspec": {
   "display_name": "Python 3 (ipykernel)",
   "language": "python",
   "name": "python3"
  },
  "language_info": {
   "codemirror_mode": {
    "name": "ipython",
    "version": 3
   },
   "file_extension": ".py",
   "mimetype": "text/x-python",
   "name": "python",
   "nbconvert_exporter": "python",
   "pygments_lexer": "ipython3",
   "version": "3.10.6"
  }
 },
 "nbformat": 4,
 "nbformat_minor": 5
}
