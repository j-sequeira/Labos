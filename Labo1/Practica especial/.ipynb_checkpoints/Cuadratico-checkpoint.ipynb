{
 "cells": [
  {
   "cell_type": "code",
   "execution_count": 52,
   "id": "e4d3fee6-4c0d-4cd7-9fef-89536edf91b1",
   "metadata": {},
   "outputs": [],
   "source": [
    "import numpy as np\n",
    "import matplotlib.pyplot as plt\n",
    "from math import floor,ceil\n",
    "from scipy.optimize import curve_fit as cf\n",
    "from pandas import read_csv\n",
    "\n",
    "def leermd(filename):\n",
    "    result = []\n",
    "    df = read_csv(filename, sep='\\t', skiprows=3, decimal=',')\n",
    "    nparray = df.values\n",
    "    nparray = nparray[~np.isnan(nparray).any(axis=1)]\n",
    "    for cols in range(nparray.shape[1]):\n",
    "        out = nparray[:,cols]\n",
    "        result.append(out)\n",
    "    return result\n",
    "\n",
    "m_cent = 0.08148 # kg\n",
    "m_mov = 0.08068 # kg\n",
    "alfa = np.pi/10\n",
    "err_t = 1/200 # s\n",
    "err_ang = 1*np.pi/180\n",
    "err_dist = 0.0005 # m\n",
    "err_m = 0.00001 # kg\n",
    "R_cent = 0.05 # m\n",
    "R_mov = 0.05 # m\n",
    "d = 0.002 #m\n",
    "err_R = 0.001 # m\n",
    "err_d = 0.001 # m\n",
    "g = 9.79688239 # m/s²\n",
    "dist_cent = np.array([0.21,0.23,0.25,0.27,0.29,0.31,0.33,0.35,0.37,0.39]) # m\n",
    "dist_mov = np.array([0.145,0.150,0.155,0.160,0.165,0.170,0.175,0.180,0.185,0.190]) #m"
   ]
  },
  {
   "cell_type": "code",
   "execution_count": 53,
   "id": "5ae62b35-4dc9-4ed7-a6e2-5c4d9ffe9b00",
   "metadata": {},
   "outputs": [],
   "source": [
    "def temp_calc(filename):\n",
    "    ts,ph_out,ph_in = leermd(filename)\n",
    "    dph_in = np.diff(ph_in)\n",
    "    dph_out = np.diff(ph_out)\n",
    "    \n",
    "    idx_i_in = np.where(dph_in<-3.5)[0]\n",
    "    idx_d_in = np.where(dph_in>3.5)[0]\n",
    "    temp_in = (ts[idx_i_in]+ts[idx_d_in])/2\n",
    "    \n",
    "    idx_i_out = np.where(dph_out<-2.5)[0]\n",
    "    idx_d_out = np.where(dph_out>2.5)[0]\n",
    "    temp_out = (ts[idx_i_out]+ts[idx_d_out])/2\n",
    "    \n",
    "    temp = temp_out - temp_in\n",
    "    \n",
    "    return temp\n",
    "\n",
    "temp_cent = []\n",
    "err_st_t_cent = []\n",
    "for i in range(len(dist_cent)):\n",
    "    t_list = [temp_calc(str(ceil(dist_cent[i]*100)) + '-1.txt'), temp_calc(str(ceil(dist_cent[i]*100)) + '-2.txt'), temp_calc(str(ceil(dist_cent[i]*100)) + '-3.txt')]\n",
    "    t_avg = np.mean(t_list)\n",
    "    t_std = np.std(t_list)\n",
    "    temp_cent.append(t_avg)\n",
    "    err_st_t_cent.append(t_std/3)\n",
    "temp_cent = np.array(temp_cent)\n",
    "err_st_t_cent = np.array(err_st_t_cent)\n",
    "\n",
    "temp_mov = []\n",
    "err_st_t_mov = []\n",
    "for i in range(len(dist_mov)):\n",
    "    t_list = [temp_calc('C' + str(round(dist_mov[i]*200)/2) + '-1.txt'), temp_calc('C' + str(round(dist_mov[i]*200)/2) + '-2.txt'), temp_calc('C' + str(round(dist_mov[i]*200)/2) + '-3.txt')]\n",
    "    t_avg = np.mean(t_list)\n",
    "    t_std = np.std(t_list)\n",
    "    temp_mov.append(t_avg)\n",
    "    err_st_t_mov.append(t_std/3)\n",
    "temp_mov = np.array(temp_mov)\n",
    "err_st_t_mov = np.array(err_st_t_mov)"
   ]
  },
  {
   "cell_type": "markdown",
   "id": "50e952b1-c4ea-439c-85a0-9f62c4ace13b",
   "metadata": {},
   "source": [
    "Sacar I\n",
    "\n",
    "Propagar errores\n",
    "\n",
    "Comparar con I teórico y validez Steiner"
   ]
  },
  {
   "cell_type": "code",
   "execution_count": 54,
   "id": "6ca5c9eb-008d-4d7e-9059-d990e7abe5f9",
   "metadata": {},
   "outputs": [
    {
     "name": "stdout",
     "output_type": "stream",
     "text": [
      "0 10 0\n"
     ]
    }
   ],
   "source": [
    "x_cent = temp_cent\n",
    "y_cent = dist_cent\n",
    "err_x_cent = np.sqrt(err_t**2+err_st_t_cent**2)\n",
    "err_y_cent = err_dist\n",
    "\n",
    "err_rel_x_cent = err_x_cent/abs(x_cent)\n",
    "err_rel_y_cent = err_y_cent/abs(y_cent)\n",
    "\n",
    "t_ovr_x = 0\n",
    "t_eq_x = 0\n",
    "x_ovr_t = 0\n",
    "for i in range(len(x_cent)):\n",
    "    if err_rel_x_cent[i] < 0.1*err_rel_y_cent[i]:\n",
    "        t_ovr_x += 1\n",
    "    elif err_rel_y_cent[i] < 0.1*err_rel_x_cent[i]:\n",
    "        x_ovr_t += 1\n",
    "    else:\n",
    "        t_eq_x += 1\n",
    "\n",
    "print(t_ovr_x,t_eq_x,x_ovr_t)\n",
    "# Hay que propagar el error del tiempo en el de la posición"
   ]
  },
  {
   "cell_type": "code",
   "execution_count": 55,
   "id": "75e0068c-6cb2-45f0-bd86-20b50281afdf",
   "metadata": {},
   "outputs": [
    {
     "name": "stdout",
     "output_type": "stream",
     "text": [
      "6\n",
      "343\n"
     ]
    }
   ],
   "source": [
    "quad = lambda x,a,b : a*x**2+b*x\n",
    "\n",
    "z = 0\n",
    "while t_ovr_x <= t_eq_x:\n",
    "    t_ovr_x = 0\n",
    "    t_eq_x = 0\n",
    "    popt,cov = cf(quad,x_cent,y_cent,sigma=err_rel_y_cent)\n",
    "    a_cent = popt[0]\n",
    "    b_cent = popt[0]\n",
    "    err_y_cent = np.sqrt(((a_cent*2*x_cent+b_cent)*err_x_cent)**2+err_y_cent**2)\n",
    "    err_rel_y_cent = err_y_cent/abs(y_cent)\n",
    "    for i in range(len(x_cent)):\n",
    "        if err_rel_x_cent[i] < 0.1*err_rel_y_cent[i]:\n",
    "            t_ovr_x += 1\n",
    "        else:\n",
    "            t_eq_x += 1\n",
    "    z += 1\n",
    "\n",
    "print(t_ovr_x)\n",
    "print(z)"
   ]
  },
  {
   "cell_type": "code",
   "execution_count": 70,
   "id": "0d61f261-ccd9-485d-9afa-0e59fe5589b5",
   "metadata": {},
   "outputs": [
    {
     "data": {
      "image/png": "[encoded data removed]",
      "text/plain": [
       "<Figure size 432x288 with 1 Axes>"
      ]
     },
     "metadata": {
      "needs_background": "light"
     },
     "output_type": "display_data"
    },
    {
     "data": {
      "image/png": "[encoded data removed]",
      "text/plain": [
       "<Figure size 432x288 with 1 Axes>"
      ]
     },
     "metadata": {
      "needs_background": "light"
     },
     "output_type": "display_data"
    },
    {
     "name": "stdout",
     "output_type": "stream",
     "text": [
      "-0.0010104273080470973 0.04274848296774531\n"
     ]
    },
    {
     "data": {
      "image/png": "[encoded data removed]",
      "text/plain": [
       "<Figure size 432x288 with 1 Axes>"
      ]
     },
     "metadata": {
      "needs_background": "light"
     },
     "output_type": "display_data"
    }
   ],
   "source": [
    "popt,cov = cf(quad,x_cent,y_cent,sigma=err_rel_y_cent)\n",
    "a_cent = popt[0]\n",
    "b_cent = popt[1]\n",
    "err_a_cent = cov[0][0]\n",
    "err_b_cent = cov[1][1]\n",
    "\n",
    "x_adj_cent = np.linspace(min(x_cent),max(x_cent),100)\n",
    "y_adj_cent= quad(x_adj_cent,a_cent,b_cent)\n",
    "\n",
    "plt.figure()\n",
    "plt.errorbar(x_cent,y_cent,xerr=err_x_cent,yerr=err_y_cent,fmt='k',ls='none')\n",
    "plt.scatter(x_cent,y_cent,color='k')\n",
    "plt.show()\n",
    "plt.close()\n",
    "\n",
    "plt.figure()\n",
    "plt.scatter(x_cent,y_cent,color='k')\n",
    "plt.plot(x_adj_cent,y_adj_cent,'g')\n",
    "plt.errorbar(x_cent,y_cent,xerr=err_x_cent,yerr=err_y_cent,fmt='k',ls='none')\n",
    "plt.show()\n",
    "plt.close()\n",
    "\n",
    "print(a_cent,b_cent)\n",
    "\n",
    "res = y_cent - quad(x_cent,a_cent,b_cent)\n",
    "\n",
    "plt.figure()\n",
    "plt.grid()\n",
    "plt.plot(x_cent,res,'ko')\n",
    "plt.show()\n",
    "plt.close()"
   ]
  },
  {
   "cell_type": "code",
   "execution_count": 71,
   "id": "7de8ce6c-33b9-4881-880b-3a0436d28ba9",
   "metadata": {},
   "outputs": [
    {
     "name": "stdout",
     "output_type": "stream",
     "text": [
      "-0.30536272372478035\n"
     ]
    }
   ],
   "source": [
    "I_cent = m_cent*R_cent**2*(g*np.sin(alfa)/(2*a_cent) - 1)\n",
    "print(I_cent)"
   ]
  },
  {
   "cell_type": "code",
   "execution_count": 73,
   "id": "135b7821-a5b6-40d0-8660-35eb84192310",
   "metadata": {},
   "outputs": [
    {
     "name": "stdout",
     "output_type": "stream",
     "text": [
      "0.012328630331723564\n"
     ]
    }
   ],
   "source": [
    "err_I_cent = np.sqrt((I_cent*err_m/m_cent)**2 + (2*I_cent*err_R/R_cent)**2 + (m_cent*R_cent**2*np.cos(alfa)*err_ang/(2*a_cent))**2 + (m_cent*R_cent**2*np.sin(alfa)*err_a_cent/(2*a_cent))**2)\n",
    "print(err_I_cent)"
   ]
  },
  {
   "cell_type": "code",
   "execution_count": 48,
   "id": "3a382960-a364-4f5b-91d4-ba47bb7d2dfe",
   "metadata": {},
   "outputs": [
    {
     "name": "stdout",
     "output_type": "stream",
     "text": [
      "0 10 0\n"
     ]
    }
   ],
   "source": [
    "x_mov = temp_mov\n",
    "y_mov = dist_mov\n",
    "err_x_mov = np.sqrt(err_t**2+err_st_t_mov**2)\n",
    "err_y_mov = err_dist\n",
    "\n",
    "err_rel_x_mov = err_x_mov/abs(x_mov)\n",
    "err_rel_y_mov = err_y_mov/abs(y_mov)\n",
    "\n",
    "t_ovr_x = 0\n",
    "t_eq_x = 0\n",
    "x_ovr_t = 0\n",
    "for i in range(len(x_mov)):\n",
    "    if err_rel_x_mov[i] < 0.1*err_rel_y_mov[i]:\n",
    "        t_ovr_x += 1\n",
    "    elif err_rel_y_mov[i] < 0.1*err_rel_x_mov[i]:\n",
    "        x_ovr_t += 1\n",
    "    else:\n",
    "        t_eq_x += 1\n",
    "\n",
    "print(t_ovr_x,t_eq_x,x_ovr_t)"
   ]
  },
  {
   "cell_type": "code",
   "execution_count": 49,
   "id": "6753068f-1187-4c08-ac94-4f08ba2f8791",
   "metadata": {},
   "outputs": [
    {
     "name": "stdout",
     "output_type": "stream",
     "text": [
      "6\n",
      "133\n"
     ]
    }
   ],
   "source": [
    "z = 0\n",
    "while t_ovr_x <= t_eq_x:\n",
    "    t_ovr_x = 0\n",
    "    t_eq_x = 0\n",
    "    popt,cov = cf(quad,x_mov,y_mov,sigma=err_rel_y_mov)\n",
    "    a_mov = popt[0]\n",
    "    b_mov = popt[1]\n",
    "    err_y_mov = np.sqrt(((a_mov*2*x_mov+b_mov)*err_x_mov)**2+err_y_mov**2)\n",
    "    err_rel_y_mov = err_y_mov/abs(y_mov)\n",
    "    for i in range(len(x_mov)):\n",
    "        if err_rel_x_mov[i] < 0.1*err_rel_y_mov[i]:\n",
    "            t_ovr_x += 1\n",
    "        else:\n",
    "            t_eq_x += 1\n",
    "    z += 1\n",
    "\n",
    "print(t_ovr_x)\n",
    "print(z)"
   ]
  },
  {
   "cell_type": "code",
   "execution_count": 50,
   "id": "48af7049-d2ba-4245-809c-a66d6db0d156",
   "metadata": {},
   "outputs": [
    {
     "data": {
      "image/png": "[encoded data removed]",
      "text/plain": [
       "<Figure size 432x288 with 1 Axes>"
      ]
     },
     "metadata": {
      "needs_background": "light"
     },
     "output_type": "display_data"
    },
    {
     "data": {
      "image/png": "[encoded data removed]",
      "text/plain": [
       "<Figure size 432x288 with 1 Axes>"
      ]
     },
     "metadata": {
      "needs_background": "light"
     },
     "output_type": "display_data"
    },
    {
     "data": {
      "image/png": "[encoded data removed]",
      "text/plain": [
       "<Figure size 432x288 with 1 Axes>"
      ]
     },
     "metadata": {
      "needs_background": "light"
     },
     "output_type": "display_data"
    }
   ],
   "source": [
    "popt,cov = cf(quad,x_mov,y_mov,sigma=err_rel_y_mov)\n",
    "a_mov = popt[0]\n",
    "b_mov = popt[1]\n",
    "err_a_mov = cov[0]\n",
    "err_b_mov = cov[1]\n",
    "\n",
    "x_adj_mov = np.linspace(min(x_mov),max(x_mov),100)\n",
    "y_adj_mov = quad(x_adj_mov,a_mov,b_mov)\n",
    "\n",
    "plt.errorbar(x_mov,y_mov,xerr=err_x_mov,yerr=err_y_mov,fmt='k',ls='none')\n",
    "plt.scatter(x_mov,y_mov,color='k')\n",
    "\n",
    "plt.figure()\n",
    "plt.scatter(x_mov,y_mov,color='k')\n",
    "plt.errorbar(x_mov,y_mov,xerr=err_x_mov,yerr=err_y_mov,fmt='k',ls='none')\n",
    "plt.plot(x_adj_mov,y_adj_mov,'g')\n",
    "plt.show()\n",
    "plt.close()\n",
    "\n",
    "res_mov = y_mov - quad(x_mov,a_mov,b_mov)\n",
    "\n",
    "plt.figure()\n",
    "plt.grid()\n",
    "plt.plot(x_mov,res_mov,'ko')\n",
    "plt.show()\n",
    "plt.close()"
   ]
  },
  {
   "cell_type": "code",
   "execution_count": null,
   "id": "b0925238-344e-4ce8-918a-4b543578062f",
   "metadata": {},
   "outputs": [],
   "source": []
  }
 ],
 "metadata": {
  "kernelspec": {
   "display_name": "Python 3 (ipykernel)",
   "language": "python",
   "name": "python3"
  },
  "language_info": {
   "codemirror_mode": {
    "name": "ipython",
    "version": 3
   },
   "file_extension": ".py",
   "mimetype": "text/x-python",
   "name": "python",
   "nbconvert_exporter": "python",
   "pygments_lexer": "ipython3",
   "version": "3.9.7"
  }
 },
 "nbformat": 4,
 "nbformat_minor": 5
}
