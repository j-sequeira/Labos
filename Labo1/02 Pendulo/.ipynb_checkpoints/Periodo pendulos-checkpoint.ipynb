{
 "cells": [
  {
   "cell_type": "code",
   "execution_count": 32,
   "id": "df87734e-410e-45ac-8be6-13e44db9f420",
   "metadata": {},
   "outputs": [],
   "source": [
    "import numpy as np\n",
    "import matplotlib.pyplot as plt\n",
    "from statistics import mode\n",
    "import random\n",
    "\n",
    "temp1 = np.loadtxt('pendulo1.csv', delimiter=',', skiprows=1, unpack=True)[1]"
   ]
  },
  {
   "cell_type": "code",
   "execution_count": 33,
   "id": "dbf7361c-4082-4ec6-b8d3-c28563a0406d",
   "metadata": {},
   "outputs": [
    {
     "name": "stdout",
     "output_type": "stream",
     "text": [
      "Máximo: 2.21\n",
      "Mínimo: 1.7\n",
      "Moda: 1.92\n",
      "Mediana: 1.96\n",
      "Media: 1.9598\n",
      "Desviación estandar: 0.08964351621840812\n"
     ]
    },
    {
     "data": {
      "text/plain": [
       "(2.21, 1.7, 1.92, 1.96, 1.9598, 0.08964351621840812)"
      ]
     },
     "execution_count": 33,
     "metadata": {},
     "output_type": "execute_result"
    }
   ],
   "source": [
    "def stats(val):\n",
    "    maximo = max(val)\n",
    "    minimo = min(val)\n",
    "    moda = mode(val)\n",
    "    mediana = np.median(val)\n",
    "    media = np.mean(val)\n",
    "    desv = np.std(val)\n",
    "    print(\"Máximo: \" + str(maximo) + \"\\nMínimo: \" + str(minimo) + \"\\nModa: \" + str(moda) + \"\\nMediana: \" + str(mediana) + \"\\nMedia: \" + str(media) + \"\\nDesviación estandar: \" + str(desv))\n",
    "    return maximo,minimo,moda,mediana,media,desv\n",
    "\n",
    "stats(temp1)"
   ]
  },
  {
   "cell_type": "code",
   "execution_count": 34,
   "id": "07da730e-f918-44bd-b694-827230716342",
   "metadata": {},
   "outputs": [
    {
     "data": {
      "image/png": "[encoded data removed]",
      "text/plain": [
       "<Figure size 432x288 with 1 Axes>"
      ]
     },
     "metadata": {
      "needs_background": "light"
     },
     "output_type": "display_data"
    },
    {
     "data": {
      "text/plain": [
       "(array([0.02, 0.01, 0.  , 0.03, 0.03, 0.11, 0.16, 0.12, 0.15, 0.14, 0.07,\n",
       "        0.08, 0.04, 0.02, 0.01, 0.01]),\n",
       " array([1.7     , 1.731875, 1.76375 , 1.795625, 1.8275  , 1.859375,\n",
       "        1.89125 , 1.923125, 1.955   , 1.986875, 2.01875 , 2.050625,\n",
       "        2.0825  , 2.114375, 2.14625 , 2.178125, 2.21    ]),\n",
       " <BarContainer object of 16 artists>)"
      ]
     },
     "execution_count": 34,
     "metadata": {},
     "output_type": "execute_result"
    },
    {
     "data": {
      "image/png": "[encoded data removed]",
      "text/plain": [
       "<Figure size 432x288 with 1 Axes>"
      ]
     },
     "metadata": {
      "needs_background": "light"
     },
     "output_type": "display_data"
    }
   ],
   "source": [
    "def sturges(N): return round(1+3.322*np.log(N))\n",
    "\n",
    "def hist_n(val):\n",
    "    k = sturges(len(val))\n",
    "    plt.xlabel(\"Período del péndulo [s]\")\n",
    "    plt.ylabel(\"Mediciones\")\n",
    "    n,bins,patches = plt.hist(val,bins=k,edgecolor=\"black\",facecolor=\"purple\",alpha=0.75)\n",
    "    plt.vlines(np.mean(val),0,max(n),'r',linestyles=\"dashed\",label=\"Media\")\n",
    "    plt.legend()\n",
    "    plt.savefig(\"hist_n.png\")\n",
    "    return n,bins,patches\n",
    "\n",
    "def hist_freq(val):\n",
    "    k = sturges(len(val))\n",
    "    plt.xlabel(\"Período del péndulo [s]\")\n",
    "    plt.ylabel(\"Frecuencia\")\n",
    "    n,bins,patches = plt.hist(val,bins=k,edgecolor=\"black\",facecolor=\"green\",alpha=0.75,weights=np.ones_like(val)/len(val))\n",
    "    plt.vlines(np.mean(val),0,max(n),'r',linestyles=\"dashed\",label=\"Media\")\n",
    "    plt.legend()\n",
    "    plt.savefig(\"hist_freq.png\")\n",
    "    return n,bins,patches\n",
    "\n",
    "hist_n(temp1)\n",
    "plt.show()\n",
    "hist_freq(temp1)"
   ]
  },
  {
   "cell_type": "code",
   "execution_count": 45,
   "id": "d7b00e1e-687e-4983-970f-5b85aa85b121",
   "metadata": {},
   "outputs": [],
   "source": [
    "random.seed(4)\n",
    "temp2 = list(np.loadtxt('pendulo2.csv', delimiter=',', skiprows=1, unpack=True)[1])\n",
    "random.shuffle(temp2)\n",
    "\n",
    "random.seed(3)\n",
    "for i in range(300):\n",
    "    temp2.append(random.sample(temp2,300)[i])\n",
    "temp_g = []\n",
    "for i in range(10):\n",
    "    temp_g.append([])\n",
    "    for j in range(int(len(temp2)/10)):\n",
    "        temp_g[i].append(temp2[i*int(len(temp2)/10)+j])\n",
    "sigma = []\n",
    "for i in range(len(temp_g)):\n",
    "    sigma.append(np.std(temp_g[i]))"
   ]
  },
  {
   "cell_type": "code",
   "execution_count": null,
   "id": "476262a9-9f3a-4998-9efb-52817c882021",
   "metadata": {},
   "outputs": [],
   "source": []
  }
 ],
 "metadata": {
  "kernelspec": {
   "display_name": "Python 3 (ipykernel)",
   "language": "python",
   "name": "python3"
  },
  "language_info": {
   "codemirror_mode": {
    "name": "ipython",
    "version": 3
   },
   "file_extension": ".py",
   "mimetype": "text/x-python",
   "name": "python",
   "nbconvert_exporter": "python",
   "pygments_lexer": "ipython3",
   "version": "3.9.7"
  }
 },
 "nbformat": 4,
 "nbformat_minor": 5
}
