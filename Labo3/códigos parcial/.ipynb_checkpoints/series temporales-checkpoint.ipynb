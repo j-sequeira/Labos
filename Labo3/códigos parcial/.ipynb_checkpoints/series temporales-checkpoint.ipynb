{
 "cells": [
  {
   "cell_type": "markdown",
   "metadata": {
    "id": "8gs7FgJ_WRLx"
   },
   "source": [
    "# **4. Análisis de series temporales**\n",
    "\n",
    "En esta guía vas a encontrar algunas herramientas básicas para el análisis de series temporales. En particular, se analizarán resultados correspondientes a *oscilaciones armónicas* y *señales periódicas*.\n",
    "\n",
    "Se utilizarán principalmente las siguientes bibliotecas:"
   ]
  },
  {
   "cell_type": "code",
   "execution_count": null,
   "metadata": {
    "id": "His45GRb3zEl"
   },
   "outputs": [],
   "source": [
    "import numpy as np\n",
    "import matplotlib.pyplot as plt\n",
    "from scipy.optimize import curve_fit"
   ]
  },
  {
   "cell_type": "markdown",
   "metadata": {
    "id": "SkPaQH4L-ggU"
   },
   "source": [
    "## 4.1. Oscilación armónica simple\n",
    "\n",
    "El *oscilador armónico simple* es un ejemplo típico de sistemas que evolucionan en el tiempo.\n",
    "\n",
    "En física, es común estudiar este tipo de sistemas a partir de caracterizar las oscilaciones de un resorte con una masa. Así, un sistema oscilante ideal compuesto por un resorte de constante elástica $k$ y una masa $m$, se puede modelar según la ecuación de movimiento\n",
    "\n",
    "$$m \\ddot{x}=-kx ,$$\n",
    "\n",
    "siendo $x:=x(t)$ la posición del sistema respecto de su equilibrio $(x=0)$.\n",
    "\n",
    "Es posible verificar que la solución\n",
    "\n",
    "$$x(t)=A \\cos(\\omega_0 t +\\varphi) ,$$\n",
    "\n",
    "satisface la ecuación; siendo $A$ la amplitud de la oscilación, $\\omega_0$ la frecuencia de oscilación, y $\\varphi$ la fase inicial de la oscilación.\n",
    "\n",
    "De igual forma, derivando la solución, se recuperan la velocidad y aceleración\n",
    "\n",
    "$$v(t):=\\dot{x}(t)=-A\\omega_0 \\sin(\\omega_0 t +\\varphi) ,$$\n",
    "\n",
    "$$a(t):=\\ddot{x}(t)=-A\\omega_0^2 \\cos(\\omega_0 t +\\varphi) ,$$\n",
    "\n",
    "las cuales, de igual forma, se comportan como oscilaciones periódicas.\n",
    "\n",
    "Los parámetros de amplitud $A$ y fase $\\varphi$ se pueden resolver si se conocen las condiciones iniciales del sistema: por ejemplo, $x_0=x(0)$ y $v_0=\\dot{x}(0)$.\n",
    "\n",
    "Por otra parte, la frecuencia natural del sistema depende intrínsecamente del sistema, y calcula como\n",
    "\n",
    "$$\\omega_0=\\sqrt{\\frac{k}{m}} .$$\n",
    "\n",
    "De este modo, si pudieras estimar $\\omega_0$ para valores conocidos de $m$, entonces deberías poder obtener la constante $k$ del resorte. Notá además que la frecuencia en Hertz [Hz] del sistema sale de tomar\n",
    "\n",
    "$$f_0:=\\frac{\\omega_0}{2\\pi} .$$"
   ]
  },
  {
   "cell_type": "markdown",
   "metadata": {
    "id": "ddNv5s4I2X0b"
   },
   "source": [
    "Para empezar con el análisis de tus datos, considerá que vas a estudiar $a(t)$: la aceleración del sistema como función del tiempo. Para ello, adquiriste una serie de $n$ datos $(t_n,a_n)$ como se ejemplifica a continuación."
   ]
  },
  {
   "cell_type": "code",
   "execution_count": null,
   "metadata": {
    "id": "_uxr3G6u36qi"
   },
   "outputs": [],
   "source": [
    "t = np.array([\n",
    "  0.00000000,  0.15075377,  0.30150754,  0.45226131,  0.60301508,  0.75376884,\n",
    "  0.90452261,  1.05527638,  1.20603015,  1.35678392,  1.50753769,  1.65829146,\n",
    "  1.80904523,  1.95979899,  2.11055276,  2.26130653,  2.41206030,  2.56281407,\n",
    "  2.71356784,  2.86432161,  3.01507538,  3.16582915,  3.31658291,  3.46733668,\n",
    "  3.61809045,  3.76884422,  3.91959799,  4.07035176,  4.22110553,  4.37185930,\n",
    "  4.52261307,  4.67336683,  4.82412060,  4.97487437,  5.12562814,  5.27638191,\n",
    "  5.42713568,  5.57788945,  5.72864322,  5.87939698,  6.03015075,  6.18090452,\n",
    "  6.33165829,  6.48241206,  6.63316583,  6.78391960,  6.93467337,  7.08542714,\n",
    "  7.23618090,  7.38693467,  7.53768844,  7.68844221,  7.83919598,  7.98994975,\n",
    "  8.14070352,  8.29145729,  8.44221106,  8.59296482,  8.74371859,  8.89447236,\n",
    "  9.04522613,  9.19597990,  9.34673367,  9.49748744,  9.64824121,  9.79899497,\n",
    "  9.94974874, 10.10050251, 10.25125628, 10.40201005, 10.55276382, 10.70351759,\n",
    " 10.85427136, 11.00502513, 11.15577889, 11.30653266, 11.45728643, 11.60804020,\n",
    " 11.75879397, 11.90954774, 12.06030151, 12.21105528, 12.36180905, 12.51256281,\n",
    " 12.66331658, 12.81407035, 12.96482412, 13.11557789, 13.26633166, 13.41708543,\n",
    " 13.56783920, 13.71859296, 13.86934673, 14.02010050, 14.17085427, 14.32160804,\n",
    " 14.47236181, 14.62311558, 14.77386935, 14.92462312, 15.07537688, 15.22613065,\n",
    " 15.37688442, 15.52763819, 15.67839196, 15.82914573, 15.97989950, 16.13065327,\n",
    " 16.28140704, 16.43216080, 16.58291457, 16.73366834, 16.88442211, 17.03517588,\n",
    " 17.18592965, 17.33668342, 17.48743719, 17.63819095, 17.78894472, 17.93969849,\n",
    " 18.09045226, 18.24120603, 18.39195980, 18.54271357, 18.69346734, 18.84422111,\n",
    " 18.99497487, 19.14572864, 19.29648241, 19.44723618, 19.59798995, 19.74874372,\n",
    " 19.89949749, 20.05025126, 20.20100503, 20.35175879, 20.50251256, 20.65326633,\n",
    " 20.80402010, 20.95477387, 21.10552764, 21.25628141, 21.40703518, 21.55778894,\n",
    " 21.70854271, 21.85929648, 22.01005025, 22.16080402, 22.31155779, 22.46231156,\n",
    " 22.61306533, 22.76381910, 22.91457286, 23.06532663, 23.21608040, 23.36683417,\n",
    " 23.51758794, 23.66834171, 23.81909548, 23.96984925, 24.12060302, 24.27135678,\n",
    " 24.42211055, 24.57286432, 24.72361809, 24.87437186, 25.02512563, 25.17587940,\n",
    " 25.32663317, 25.47738693, 25.62814070, 25.77889447, 25.92964824, 26.08040201,\n",
    " 26.23115578, 26.38190955, 26.53266332, 26.68341709, 26.83417085, 26.98492462,\n",
    " 27.13567839, 27.28643216, 27.43718593, 27.58793970, 27.73869347, 27.88944724,\n",
    " 28.04020101, 28.19095477, 28.34170854, 28.49246231, 28.64321608, 28.79396985,\n",
    " 28.94472362, 29.09547739, 29.24623116, 29.39698492, 29.54773869, 29.69849246,\n",
    " 29.84924623, 30.00000000\n",
    " ])\n",
    "\n",
    "a = np.array([\n",
    "  0.00000000,  0.40497214,  0.71415522,  1.03200431,  1.27363042,  1.81425671,\n",
    "  1.85675167,  2.17108492,  2.35670522,  2.35813598,  2.33540951,  2.45491535,\n",
    "  2.46154630,  2.46542309,  2.12223272,  2.02097624,  1.61087076,  1.44746243,\n",
    "  1.00359642,  0.71226631,  0.34455922, -0.05784441, -0.44371182, -0.82737133,\n",
    " -1.06423051, -1.45632000, -1.83605847, -2.12103625, -2.04226184, -2.44598014,\n",
    " -2.70193610, -2.45133867, -2.50802833, -2.50684541, -2.11453370, -1.99230643,\n",
    " -2.03251200, -1.61319752, -1.33156093, -0.97857875, -0.57542546, -0.27523186,\n",
    "  0.11602737,  0.48853130,  0.85350510,  1.25853218,  1.50678002,  1.71948063,\n",
    "  2.17197972,  2.30625249,  2.37865906,  2.29706623,  2.27585842,  2.44944051,\n",
    "  2.37635318,  2.28340655,  1.96312104,  1.89637704,  1.64291029,  1.33479670,\n",
    "  0.81536578,  0.56638619,  0.18009211, -0.17660364, -0.55605288, -0.84667808,\n",
    " -1.26283885, -1.55513034, -1.88843594, -2.04224384, -2.26004812, -2.47539843,\n",
    " -2.73224153, -2.33115291, -2.57777558, -2.50783045, -2.30376492, -2.07720724,\n",
    " -1.92595437, -1.55062702, -1.18211968, -0.93475317, -0.47370520, -0.13684770,\n",
    "  0.22833891,  0.58283305,  1.00469714,  1.28071424,  1.58963847,  1.88819940,\n",
    "  1.87004591,  2.36302134,  2.66349373,  2.41412927,  2.55775123,  2.38312964,\n",
    "  2.46247140,  2.10615960,  1.91721245,  1.77036242,  1.28852640,  1.19107698,\n",
    "  0.79185714,  0.49200930,  0.07793315, -0.29303242, -0.67248080, -0.99666390,\n",
    " -1.32275108, -1.70518328, -1.94874941, -2.11781135, -2.24945473, -2.65383490,\n",
    " -2.24753235, -2.54923478, -2.43979331, -2.42555269, -2.50015308, -1.92537286,\n",
    " -1.71437317, -1.27409468, -1.16394841, -0.83899692, -0.36656987, -0.01329562,\n",
    "  0.36328067,  0.71513817,  1.11244836,  1.25635250,  1.68879256,  1.91701931,\n",
    "  2.20490728,  2.15190560,  2.56757730,  2.35887091,  2.27876662,  2.47261134,\n",
    "  2.30996926,  2.12523256,  2.15315968,  1.53274760,  1.43164832,  1.11204772,\n",
    "  0.76085860,  0.33422698, -0.05000484, -0.36263633, -0.78366509, -1.16764450,\n",
    " -1.39687883, -1.78108799, -2.12156833, -2.39246458, -2.09020856, -2.33039570,\n",
    " -2.50594874, -2.50149883, -2.29139081, -2.32906861, -2.12388431, -1.86793226,\n",
    " -1.73717422, -1.33160989, -0.99401124, -0.62005687, -0.26633938,  0.10322754,\n",
    "  0.46026223,  0.80904172,  1.22745326,  1.54942620,  1.77719516,  2.00155955,\n",
    "  2.14843124,  2.20258678,  2.40340870,  2.53789573,  2.55076860,  2.55658380,\n",
    "  2.31546754,  2.06515810,  1.90043100,  1.46001769,  1.32882314,  1.06837782,\n",
    "  0.59857451,  0.21141518, -0.17897626, -0.53160285, -0.89658340, -1.23244691,\n",
    " -1.46747704, -1.78945000, -1.95768228, -2.27211271, -2.32002611, -2.34237665,\n",
    " -2.42382686, -2.48685749\n",
    "  ])"
   ]
  },
  {
   "cell_type": "markdown",
   "metadata": {
    "id": "xruWNbAo5EP8"
   },
   "source": [
    "Además, si correspondiese, no olvides registrar también las incertezas de tus mediciones.\n",
    "\n",
    "Hecho esto, podés graficar $a_n(t_n)$ para así previsualizar tus datos y verificar que obtenés el comportamiento esperado del sistema."
   ]
  },
  {
   "cell_type": "code",
   "execution_count": null,
   "metadata": {
    "id": "IxYqJeHh5ynW"
   },
   "outputs": [],
   "source": [
    "plt.figure(figsize=(8,6),dpi=100)\n",
    "plt.plot(t, a, \".-\")\n",
    "plt.title('Resultados experimentales del oscilador armónico simple')\n",
    "plt.xlabel('Tiempo (s)')\n",
    "plt.ylabel('Aceleración (m s$^{-2}$)')\n",
    "plt.grid()\n",
    "plt.show()"
   ]
  },
  {
   "cell_type": "markdown",
   "metadata": {
    "id": "TLoWEd6RUOG2"
   },
   "source": [
    "Un primer acercamiento al análisis de tus mediciones es determinar su periodo de oscilación. Una forma de hacerlo es determinando los índices ``i0`` en los cuales tus valores de aceleración ``a[i0]`` cambian de signo,  lo que se corresponderá con estimar las raíces ``t[i0]``. Luego, el doble de las diferencias consecutivas entre raíces permitirá estimar el periodo. A continuación tenés un código, que te sugerimos revisar con atención, que te permitirá estimar el periodo a través de su media y error estándar."
   ]
  },
  {
   "cell_type": "code",
   "execution_count": null,
   "metadata": {
    "id": "U5LaDr0POQt0"
   },
   "outputs": [],
   "source": [
    "i0 = np.nonzero(a[0:-1]*a[1:]<=0)[0]\n",
    "\n",
    "plt.figure(figsize=(8,6),dpi=100)\n",
    "plt.plot(t,a, \".-\", label=\"Mediciones\")\n",
    "plt.plot(t[i0], np.zeros_like(t[i0]), \"x\", color=\"red\", label=\"Recta $a=0$\")\n",
    "plt.plot(t,np.zeros_like(t), \"--\", color=\"gray\", label=\"Raíces estimadas\")\n",
    "plt.xticks(np.arange(0, 30, 3))\n",
    "plt.grid()\n",
    "plt.legend(loc='upper right')\n",
    "plt.show()\n",
    "\n",
    "ceros = t[i0]\n",
    "diffceros = ceros[1:]-ceros[0:-1]\n",
    "period_mean = 2*np.mean(diffceros)\n",
    "period_sem = 2*np.std(diffceros)/np.sqrt(len(diffceros))\n",
    "\n",
    "print(' T (media):', period_mean)\n",
    "print('dT (error estándar):', period_sem)"
   ]
  },
  {
   "cell_type": "markdown",
   "metadata": {
    "id": "Tu378WUS52au"
   },
   "source": [
    "Un análisis más general que podés hacer es, mediante una regresión no lineal, estimar los parámetros de tu modelo: amplitud $A$, frecuencia $\\omega_0$ y fase $\\varphi$. Inclusive, si tu masa $m$ es conocida, podés estimar el coeficiente $k$ del resorte a partir de tu estimación de $\\omega_0$.\n",
    "\n",
    "Siguiendo esta estrategia, la aceleración de un oscilador armónico simple se puede modelar como\n",
    "\n",
    "$$a(t) = \\underbrace{-A\\omega_0^2}_{B} \\cos(\\omega_0 t +\\varphi) = B \\cos(\\omega_0 t +\\varphi) ,$$\n",
    "\n",
    "donde la redefinición de $B$ sirve para simplificar tu ajuste, ya que se desea siempre tener el mínimo número de parámetros posibles.\n",
    "\n",
    "En el bloque a continuación, se define la función `a(t,B,w0,phi)` según $a(t;B,\\omega_0,\\varphi)$ y se ejecuta el ajuste no lineal correspondiente. De esta forma, podés obtener las estimaciones de los parámetros $(B\\pm \\sigma_B)$, $(\\omega_0\\pm \\sigma_{\\omega_0})$ y $(\\varphi\\pm \\sigma_{\\varphi})$."
   ]
  },
  {
   "cell_type": "code",
   "execution_count": null,
   "metadata": {
    "id": "fiRgAvPr8DBq"
   },
   "outputs": [],
   "source": [
    "def at(t,B,w0,phi):\n",
    "  return B*np.cos(w0*t+phi)\n",
    "\n",
    "popt, pcov = curve_fit(at, t, a, p0 = (2.5, 1.0, -np.pi/2 + 2*np.pi))\n",
    "\n",
    "B = popt[0]\n",
    "w0 = popt[1]\n",
    "phi = popt[2]\n",
    "\n",
    "dB = np.sqrt(pcov[0,0])\n",
    "dw0 = np.sqrt(pcov[1,1])\n",
    "dphi = np.sqrt(pcov[2,2])\n",
    "\n",
    "print('   B = ', B)\n",
    "print('  dB = ', dB)\n",
    "\n",
    "print('  w0 = ', w0)\n",
    "print(' dw0 = ', dw0)\n",
    "\n",
    "print(' phi = ', phi)\n",
    "print('dphi = ', dphi)"
   ]
  },
  {
   "cell_type": "markdown",
   "metadata": {
    "id": "biTpp6ktIJHG"
   },
   "source": [
    "El ajuste de cuadrados mínimos no lineal, realizado por `curve_fit`, tiene como argumentos la función `at` propuesta como modelo y los valores experimentales de tiempo `t` y aceleración `a`. Adicionalmente, se configuraron valores estimativos (iniciales) de los parámetros $(B,\\omega_0,\\varphi)$ mediante el argumento `p0` de `curve_fit`. Una elección correcta de estos valores estimativos de los parámetros permite que el algoritmo de cuadrados mínimos no lineal tenga una correcta convergencia ya que, a diferencia del caso no lineal, un ajuste no lineal en los parámetros puede converger a valores no plausibles para el modelo, en particular si hay muchos parámetros en juego. En caso de que no verifiques una correcta convergencia de los parámetros, intentá mejorar los valores estimativos de los parámetros, o bien reducir la cantidad de datos al momento de realizar el ajuste.\n",
    "\n",
    "Usando las estimaciones de tus parámetros, podés contrastar tu modelo frente a tus resultados experimentales."
   ]
  },
  {
   "cell_type": "code",
   "execution_count": null,
   "metadata": {
    "id": "P3PkMFM1FU4Z"
   },
   "outputs": [],
   "source": [
    "axis = np.linspace(0, 30, 100)\n",
    "plt.figure(figsize=(8,6),dpi=100)\n",
    "plt.scatter(t, a, label=\"Mediciones\")\n",
    "plt.plot(axis, at(axis, *popt), 'g-', label=\"Ajuste senoidal\")\n",
    "plt.title('Modelo y resultados experimentales del oscilador armónico simple')\n",
    "plt.xlabel('Tiempo (s)')\n",
    "plt.ylabel('Aceleración (m s$^{-2}$)')\n",
    "plt.grid()\n",
    "plt.legend(loc='upper right')\n",
    "plt.show()"
   ]
  },
  {
   "cell_type": "markdown",
   "metadata": {
    "id": "ZqwFw3x4G12y"
   },
   "source": [
    "Por último, suponiendo que el sistema tiene una masa $m=(1.0\\pm 0.1) \\, \\textrm{kg}$ y que la frecuencia natural estimada es $(0.9997\\pm 0.0004) \\, \\textrm{rad Hz}$, es posible estimar la constante del resorte $k$ junto con su incerteza $\\sigma_k$ como ejemplifica en el siguiente bloque."
   ]
  },
  {
   "cell_type": "code",
   "execution_count": null,
   "metadata": {
    "id": "O6qAuwJIIp11"
   },
   "outputs": [],
   "source": [
    "m = 1.0\n",
    "dm = 0.1\n",
    "\n",
    "k = m*w0**2\n",
    "dk = np.sqrt((dm*w0**2)**2+dw0*(2*m*w0)**2)\n",
    "\n",
    "print(' k = ', k)\n",
    "print('dk = ', dk)"
   ]
  },
  {
   "cell_type": "markdown",
   "metadata": {
    "id": "iIv75_DkjYy6"
   },
   "source": [
    "## 4.2. Oscilación armónica amortiguada\n",
    "\n",
    "Puede verificarse que, en general, un sistema oscilatorio se ve amortiguado debido a la interacción viscosa con su medio. Este tipo de oscilación armónica amortiguada se puede modelar como\n",
    "\n",
    "$$m \\ddot{x}=-kx-b\\dot{x} ,$$\n",
    "\n",
    "donde $b$ da cuenta del grado de viscosidad del medio.\n",
    "\n",
    "Para un caso subamortiguado, tal que $b^2<4km$, puede verificarse que la posición a todo tiempo es\n",
    "\n",
    "$$x(t)=A e^{-\\lambda t} \\cos(\\omega t + \\varphi)$$\n",
    "\n",
    "donde $\\lambda:=b/2m$ y la frecuencia\n",
    "\n",
    "$$\\omega:=\\sqrt{\\omega_0^2-\\lambda^2}$$\n",
    "\n",
    "depende de la frecuencia natural $\\omega_0$ del sistema sin amortiguamiento; es decir, para $b\\equiv 0$.\n",
    "\n",
    "Al igual que fuera realizado antes, la aceleración se puede representar como\n",
    "\n",
    "$$a(t):=\\ddot{x}(t)=B e^{-\\lambda t} \\cos(\\omega t + \\varphi) ,$$\n",
    "\n",
    "siendo $B$ una amplitud que corresponda a la aceleración.\n",
    "\n",
    "Siguiendo la estrategia del inciso anterior, intentá realizar un ajuste no lineal sobre tus datos para predecir los parámetros relevantes del sistema. Tené en cuenta que ahora tu modelo va a depender de un parámetro adicional $\\lambda$, el cual debés contemplar en la definición de tu función."
   ]
  },
  {
   "cell_type": "markdown",
   "metadata": {
    "id": "YZ4bq2jUYm0_"
   },
   "source": [
    "## 4.3. Análisis espectral (lectura opcional)\n",
    "\n",
    "En la naturaleza podés encontrar distintos tipos de ondas, muchas de las cuales son composiciones de oscilaciones armónicas simples. Por ejemplo, las ondas sonoras que solés escuchar resultan de la superposición de ondas sinusoidales con distintas amplitudes y frecuencias.\n",
    "\n",
    "Bajo esta consideración, uno puede construir una señal caracterizada por la superposición de ondas simples. Por ejemplo, si superponés tres ondas de amplitudes $\\{12,6,3\\}$ y frecuencias $\\{\\pi,2\\pi,3\\pi\\}$ obtenés una señal de amplitud\n",
    "\n",
    "$$S(t) = 12\\sin(\\pi t)+6\\sin(2\\pi t)+3\\sin(3\\pi t). $$\n",
    "\n",
    "A continuación se ejemplifica la generación de esta última señal."
   ]
  },
  {
   "cell_type": "code",
   "execution_count": null,
   "metadata": {
    "id": "hKhmZBpdRuSh"
   },
   "outputs": [],
   "source": [
    "def single(t,A,w0,phi):\n",
    "  return A*np.sin(w0*t+phi)\n",
    "\n",
    "time = np.linspace(0, 10, 1000)\n",
    "wave = single(time,12,np.pi,0) + single(time,6,2*np.pi,0) + single(time,3,3*np.pi,0)\n",
    "\n",
    "plt.figure(figsize=(8,6),dpi=100)\n",
    "plt.plot(time, wave, 'r-')\n",
    "plt.title('Superposición de ondas')\n",
    "plt.xlabel('Tiempo (s)')\n",
    "plt.ylabel('Amplitud (unidad arb.)')\n",
    "plt.grid()\n",
    "plt.show()"
   ]
  },
  {
   "cell_type": "markdown",
   "metadata": {
    "id": "HoAHyfhsVmRM"
   },
   "source": [
    "Ahora suponé que obtenes experimentalmente una señal compuesta por ondas con amplitudes y frecuencias, a priori, desconocidas.\n",
    "\n",
    "Para ejemplificar, en el siguiente bloque podés simular esta experiencia, en la cual medís una señal generada que, en apariencia, es indiscernible."
   ]
  },
  {
   "cell_type": "code",
   "execution_count": null,
   "metadata": {
    "id": "dPiNmVSLAHgI"
   },
   "outputs": [],
   "source": [
    "def single(t,A,w0,phi):\n",
    "  return A*np.sin(w0*t+phi)\n",
    "\n",
    "def random_wave(t):\n",
    "  mu = single(time,12,2*np.pi,0) + single(time,4,3*2*np.pi,0) + single(time,10,7*2*np.pi,0)\n",
    "  return np.random.normal(mu, np.abs(mu)*0.1)\n",
    "\n",
    "N = 200\n",
    "T = 10.0 / 200.0\n",
    "time = np.linspace(0.0, N*T, N)\n",
    "wave = random_wave(time)\n",
    "\n",
    "plt.figure(figsize=(8,6),dpi=100)\n",
    "plt.scatter(time, wave)\n",
    "plt.title('Señal obtenida con una simulación experimental')\n",
    "plt.xlabel('Tiempo (s)')\n",
    "plt.ylabel('Amplitud (unidad arb.)')\n",
    "plt.grid()\n",
    "plt.show()"
   ]
  },
  {
   "cell_type": "markdown",
   "metadata": {
    "id": "80jFOHq7Zz76"
   },
   "source": [
    "Entonces, dada esta señal obtenida experimentalmente, una pregunta válida que te podés hacer es: *¿cómo recupero las distintas frecuencias propias de esta señal compuesta?*\n",
    "\n",
    "La respuesta no es sencilla, pero existe un algoritmo muy fácil de usar: la *transformada rápida de Fourier* (abreviado en inglés, FFT). No es importante que comprendas por el momento el detalle de esta herramienta, sino que eventualmente recuerdes que existe y puedas ahondar en caso de necesitarla.\n",
    "\n",
    "Este algoritmo `fft` es muy fácil de utilizar y te permite resolver la amplitud de cada una de las frecuencias propias del sistema. A continuación se ejemplifica su uso para el set de datos simulados anteriormente."
   ]
  },
  {
   "cell_type": "code",
   "execution_count": null,
   "metadata": {
    "id": "R6eiVOJKaw-D"
   },
   "outputs": [],
   "source": [
    "from scipy.fft import fft\n",
    "\n",
    "xf = np.linspace(0.0, 1.0/(2.0*T), N//2)\n",
    "yf = fft(wave)\n",
    "\n",
    "plt.figure(figsize=(8,6),dpi=100)\n",
    "plt.plot(xf, 2.0/N * np.abs(yf[0:N//2]))\n",
    "plt.xlim(0,8)\n",
    "plt.title('Análisis espectral de la señal simulada')\n",
    "plt.xlabel('Frecuencias (Hz)')\n",
    "plt.ylabel('Amplitud (unidad arb.)')\n",
    "plt.grid()\n",
    "plt.show()"
   ]
  },
  {
   "cell_type": "markdown",
   "metadata": {
    "id": "IpgFkt1XhdAO"
   },
   "source": [
    "En el gráfico efectuado podés observar el *análisis espectral de la señal*, correspondiente a una función $S(f)$; es decir, amplitud en función de la frecuencia $f=\\omega_0/2\\pi$.\n",
    "\n",
    "Lo impresionantes es que, a partir de una señal en apariencia indiscernible, se podés recuperar las amplitudes y frecuencias características. En particular, podés verificar la experiencia simulada tenía una señal compuesta de amplitudes $S_0=\\{12,4,8\\}$ y frecuencias $\\omega_0=\\{1\\cdot 2\\pi,3\\cdot 2\\pi,7\\cdot 2\\pi\\}$."
   ]
  },
  {
   "cell_type": "markdown",
   "metadata": {
    "id": "AEkpf4DdLm5U"
   },
   "source": [
    "> *Documento elaborado por Adán Garros (adan@garros.net) bajo licencia [CC BY-NC-SA 4.0](https://creativecommons.org/licenses/by-nc-sa/4.0/deed.es). Se agradece especialmente a Verónica Pérez Schuster por la revisión del contenido. Resultan bienvenidos comentarios y sugerencias. Última actualización: 2022-10-29.*"
   ]
  }
 ],
 "metadata": {
  "colab": {
   "collapsed_sections": [],
   "provenance": []
  },
  "kernelspec": {
   "display_name": "Python 3 (ipykernel)",
   "language": "python",
   "name": "python3"
  },
  "language_info": {
   "codemirror_mode": {
    "name": "ipython",
    "version": 3
   },
   "file_extension": ".py",
   "mimetype": "text/x-python",
   "name": "python",
   "nbconvert_exporter": "python",
   "pygments_lexer": "ipython3",
   "version": "3.10.12"
  }
 },
 "nbformat": 4,
 "nbformat_minor": 0
}
