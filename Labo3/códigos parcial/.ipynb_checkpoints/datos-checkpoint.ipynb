{
 "cells": [
  {
   "cell_type": "markdown",
   "metadata": {
    "id": "8gs7FgJ_WRLx"
   },
   "source": [
    "# **2. Tratamiento de datos en Colab**\n",
    "\n",
    "La idea de esta guía es que puedas cargar datos de tus mediciones y hacer estadística sobre los mismos.\n",
    "\n",
    "Como es usual, se importarán las bibliotecas `numpy` y `matplotlib`. Asimismo, se agregó la biblioteca `pandas` para el tratamiento de datos y `scipy.stats` para funcionalidades estadísticas.\n",
    "\n",
    "Recordá que, para que la importación impacte en tu entorno, tenés que ejecutar el bloque de código."
   ]
  },
  {
   "cell_type": "code",
   "execution_count": null,
   "metadata": {
    "id": "His45GRb3zEl"
   },
   "outputs": [],
   "source": [
    "import numpy as np\n",
    "import matplotlib.pyplot as plt\n",
    "import matplotlib.mlab as mlab\n",
    "\n",
    "import pandas as pd\n",
    "\n",
    "from scipy.stats import norm"
   ]
  },
  {
   "cell_type": "markdown",
   "metadata": {
    "id": "KY3bAfosaeu4"
   },
   "source": [
    "## 2.1. Carga manual de datos\n",
    "\n",
    "Una manera en la que podés cargar tus datos es manualmente, es decir, transcribiendo dato por dato.\n",
    "\n",
    "En tu caso, seguramente tengas varias mediciones (muestras) de una misma magnitud: por ejemplo, el periodo de un péndulo. Lo ideal es que puedas ordenar todos esos datos de forma tal que sean interpretables en tu código.\n",
    "\n",
    "Una forma de ordenar tus datos es generando un `np.array` (en inglés, *array* es vector); otra, generando `lists` (listas) de datos.\n",
    "\n",
    "En el bloque a continuación se asigna a la variable `x` un vector `np.array([...])` correspondiente a una muestra de $50$ valores de $x=\\{1.94103749,...,2.02593753\\}$. Probá ejecutar este bloque y luego, en el siguiente, verificar con `print(x)` que se reproducen los datos esperados."
   ]
  },
  {
   "cell_type": "code",
   "execution_count": null,
   "metadata": {
    "id": "17pyHOsr4RK9"
   },
   "outputs": [],
   "source": [
    "x = np.array([\n",
    "  1.94103749, 2.00718904, 2.20809976, 2.00650681, 1.79521143, 2.02067701,\n",
    "  1.96354232, 2.08666329, 2.07032700, 2.01001679, 1.98252654, 1.88389174,\n",
    "  2.12969658, 2.06554764, 2.30011605, 2.08638663, 2.01029903, 2.00930267,\n",
    "  2.16685615, 1.99138998, 2.11546209, 1.96699067, 1.98705451, 1.96768280,\n",
    "  2.06849758, 1.89826898, 1.92836394, 2.02448159, 1.88843933, 2.18733281,\n",
    "  1.92635307, 1.92931554, 1.97016973, 2.07807494, 2.07263575, 1.85317163,\n",
    "  1.98363173, 2.02454932, 2.24650423, 2.15884463, 2.11279113, 1.97011169,\n",
    "  2.05139696, 2.14017246, 1.91786618, 2.02721005, 1.98865949, 2.01849060,\n",
    "  2.01220534, 2.02593753\n",
    "  ])"
   ]
  },
  {
   "cell_type": "code",
   "execution_count": null,
   "metadata": {
    "id": "oSu0-ool8cHe"
   },
   "outputs": [],
   "source": [
    "print(x)"
   ]
  },
  {
   "cell_type": "markdown",
   "metadata": {
    "id": "5atKz9wK8-YI"
   },
   "source": [
    "Dado que la variable `x` es un vector, un elemento $x_i$ puede obtenerse escribiendo `x[i]`, donde `i` es la posición del elemento en cuestión. En Python, los vectores empiezan siempre en `i=0` y terminan en `i=n-1`, donde `n=len(x)` es el número total de elementos. Además, podés recorrer el vector `x` desde el último hacia el primero tomando valores de `i` negativos.\n",
    "\n",
    "Para ejemplificar esto, ejecutá el siguiente bloque de código para obtener el número total de elementos `len(x)`; así como los valores del tercer `x[2]` y anteúltimo `x[-2]` elemento."
   ]
  },
  {
   "cell_type": "code",
   "execution_count": null,
   "metadata": {
    "id": "Ejtecj_C-Tzc"
   },
   "outputs": [],
   "source": [
    "print(len(x))\n",
    "print(x[2])\n",
    "print(x[-2])"
   ]
  },
  {
   "cell_type": "markdown",
   "metadata": {
    "id": "fosSShERGmku"
   },
   "source": [
    "## 2.2. Importando datos externos\n",
    "\n",
    "En muchas ocasiones, en especial cuando uno sistematiza experimentos, los datos no son ingresados manualmente; en cambio, son almacenados en algún archivo externo (por ejemplo, `.csv`) y luego importados en el entorno donde se analizan los datos.\n",
    "\n",
    "Para este ejemplo, tenés a disposición el archivo `guia_colab_02_datos_data.csv` adjunto a esta guía. Este archivo contiene los mismos datos que el inciso anterior, pero en un formato *CSV* (*comma-separated values*, o *valores separados por comas*). En analogía con una tabla de datos, cada línea representa una fila y cada `,` (coma) la separación entre columnas.\n",
    "\n",
    "Antes de empezar, sería importante que puedas abrir el archivo provisto con un editor de texto sin formato (por ejemplo, bloc de notas). El archivo registra, por cada medición, el número de medición como `number` y, separado por coma, el correspondiente periodo medido como `period`. Intentá pensar la analogía entre el formato CSV y una tabla de datos: por ejemplo, el periodo $1.79521143\\, \\textrm{s}$ de la medición 5 se ubica en la fila 6 y columna 2.\n",
    "\n",
    "Para importar tus datos primero necesitás subir el archivo `guia_colab_02_datos_data.csv` a tu entorno de trabajo. En el entorno de Colab, los archivos pueden subirse y administrarse desde la sección *Files* (usualmente, en el márgen izquierdo señalizado con el ícono de una carpeta). Luego de esto, resta *parsear* (analizar) el `.csv` para que tus datos puedan ser extraídos y registrados como vectores en una o más variables. Muchas veces esto puede ser complicado, ya que hay muchas formas de confeccionar un `.csv`, en especial si hay distintos tipos de datos.\n",
    "\n",
    "En el siguiente bloque se lee y parsea el CSV importado con nombre de archivo `guia_colab_02_datos_data.csv`; para finalmente asignar los valores del número de medición a la variable `n` y los respectivos promedios a la variable `x`. Intentá ejecutar el código y verificá si obtenés el mismo vector del inciso anterior."
   ]
  },
  {
   "cell_type": "code",
   "execution_count": null,
   "metadata": {
    "id": "lNgx9TvLGkzr"
   },
   "outputs": [],
   "source": [
    "df = pd.read_csv('guia_colab_02_datos_data.csv', decimal='.', sep=',', skiprows=0)\n",
    "df = pd.DataFrame(df).to_numpy()\n",
    "n = df[:,0]\n",
    "x = df[:,1]\n",
    "print(x)"
   ]
  },
  {
   "cell_type": "markdown",
   "metadata": {
    "id": "xMGFW-uoSGcK"
   },
   "source": [
    "Un detalle muy importante respecto a los CSV es que, en muchas ocasiones, se encuentran en un formato no estándar. Por ejemplo, un editor de hojas de cálculo configurado para Argentina utilizará `;` (punto y coma) o `\\t` (tabulación) como separador de columnas y `,` (coma) como separador decimal. Por este motivo, es crucial que verifiques previamente con un editor de texto plano el formato de tu archivo CSV. Si el archivo CSV difiere del estándar discutido, es necesario que edites el CSV manualmente o bien, alternativamente, en `pd.read_csv` podés configurar diferentes valores `decimal` (separador decimal), `decimal` (separador de columnas) y `skiprows` (número de filas a omitirse sin contar cabecera)."
   ]
  },
  {
   "cell_type": "markdown",
   "metadata": {
    "id": "zEbHEGMkezyg"
   },
   "source": [
    "## 2.3. Estadísticos\n",
    "\n",
    "Suponé que los datos almacenados en la variable `x` son tus mediciones experimentales. A priori, como mucho, podés inferir de qué distribución de probabilidad provienen dichas mediciones. La idea es que ahora puedas aplicar herramientas estadísticas para obtener estimaciones sobre tus mediciones.\n",
    "\n",
    "Una forma sencilla de hacer un análisis estadístico es calculando la media $(\\bar{x})$, desviación estándar $(\\sigma_x)$, varianza $(\\sigma^2_x)$. En el siguiente bloque se ejemplifica este cálculo para la variable `x` de los incisos anteriores."
   ]
  },
  {
   "cell_type": "code",
   "execution_count": null,
   "metadata": {
    "id": "q9UU8euyjimq"
   },
   "outputs": [],
   "source": [
    "avg = np.mean(x)\n",
    "std = np.std(x)\n",
    "var = np.var(x)\n",
    "\n",
    "print('Media:', avg)\n",
    "print('Desviación Estándar:', std)\n",
    "print('Varianza:', var)"
   ]
  },
  {
   "cell_type": "markdown",
   "metadata": {
    "id": "3kRw1HDAzVc0"
   },
   "source": [
    "Una forma usual de reportar el valor medio con su incerteza es $\\bar{x}\\pm\\sigma_{\\bar{x}}$, donde $\\sigma_{\\bar{x}}=\\sigma_x/\\sqrt{N}$ es el *error estándar* de la media (en inglés, *SEM* o *Standard Error of the Mean*) del conjunto de $N$ mediciones. En el siguiente bloque se ejemplifica el cálculo de $\\sigma_{\\bar{x}}$."
   ]
  },
  {
   "cell_type": "code",
   "execution_count": null,
   "metadata": {
    "id": "sBySlxgdxutZ"
   },
   "outputs": [],
   "source": [
    "N = len(x)\n",
    "sem = np.std(x, ddof=1)/np.sqrt(N)\n",
    "print('Número de mediciones:', N)\n",
    "print('Error estándar de la media:', sem)"
   ]
  },
  {
   "cell_type": "markdown",
   "metadata": {
    "id": "MvGJFn7E2llc"
   },
   "source": [
    "Finalmente, para este ejemplo, suponiendo que $x$ es una magnitud temporal (medida en segundos) y que sus únicas incertezas son estadísticas, puede reportarse $(2.026\\pm0.014) \\,\\text{s}$."
   ]
  },
  {
   "cell_type": "markdown",
   "metadata": {
    "id": "tYmdn-BJaG2K"
   },
   "source": [
    "## 2.4. Histograma\n",
    "\n",
    "Una forma posible y útil de representar tus datos es construyendo histogramas. La construcción del histograma se puede hacer fácilmente con `plt.hist()`. Ejecutá el siguiente bloque para construir el histograma. Luego, intentá reconstruirlo modificando el número total de `bins` hasta hallar un histograma que resulte representativo."
   ]
  },
  {
   "cell_type": "code",
   "execution_count": null,
   "metadata": {
    "id": "iZFJzGHIRUNS"
   },
   "outputs": [],
   "source": [
    "plt.figure(figsize=(8,6),dpi=100)\n",
    "plt.hist(x, bins = 50);\n",
    "plt.xlabel('Tiempo (s)');\n",
    "plt.ylabel('Frecuencia / Cuentas');"
   ]
  },
  {
   "cell_type": "markdown",
   "metadata": {
    "id": "L9kee_VMG2P3"
   },
   "source": [
    "## 2.5. Ajuste gaussiano\n",
    "\n",
    "Otra forma de analizar los datos es haciendo un *fitting* (ajuste) de la distribución de probabilidad esperada con tus datos. En este caso, la muestra se supone proveniente de una *Distribución de Probabilidad Normal (o Gaussiana)* definida como $N(\\mu,\\sigma^2)$ de media $\\mu$ y desviación estándar  $\\sigma$.\n",
    "\n",
    "Intentá ejecutar los siguientes bloques para efectuar un ajuste gaussiano y, luego, graficar dicho ajuste sobre el histograma normalizado."
   ]
  },
  {
   "cell_type": "code",
   "execution_count": null,
   "metadata": {
    "id": "w5SP48oPmpVR"
   },
   "outputs": [],
   "source": [
    "(mu, sigma) = norm.fit(x)\n",
    "\n",
    "print('Media:', mu)\n",
    "print('Desviación estándar:', sigma)"
   ]
  },
  {
   "cell_type": "code",
   "execution_count": null,
   "metadata": {
    "id": "K5--HdFWbds_"
   },
   "outputs": [],
   "source": [
    "plt.figure(figsize=(8,6),dpi=100)\n",
    "\n",
    "plt.hist(x, bins=10, density=True);\n",
    "\n",
    "axis = np.linspace(norm.ppf(0.001,mu,sigma), norm.ppf(0.999,mu,sigma), 1000)\n",
    "x_pdf = norm.pdf(axis,mu,sigma)\n",
    "\n",
    "plt.plot(axis, x_pdf, 'r-', linewidth=2);\n",
    "plt.xlabel('Tiempo (s)');\n",
    "plt.ylabel('Frecuencia normalizada');"
   ]
  },
  {
   "cell_type": "markdown",
   "metadata": {
    "id": "IH9F7Jtn-NxQ"
   },
   "source": [
    "## 2.6. Generando datos simulados (opcional)\n",
    "\n",
    "Como nota de color, los datos proporcionados para esta guía (almacenados en `x`) no fueron mediciones experimentales. En cambio, la muestra provino de realizar una simulación en la que se obtuvieran datos provenientes de una distribución $N(\\mu=2.0,\\sigma=0.1)$; es decir, con media $\\mu=2.0$ y desviación estándar $\\sigma=0.1$.\n",
    "\n",
    "A modo de ejemplificar, el bloque de código a continuación te permitirá generar $50$ muestras aleatorias provenientes de la distribución y parámetros mencionados."
   ]
  },
  {
   "cell_type": "code",
   "execution_count": null,
   "metadata": {
    "id": "Qe5qwpPIOvyv"
   },
   "outputs": [],
   "source": [
    "mu = 2.0\n",
    "sigma = 0.1\n",
    "samples = 50\n",
    "\n",
    "xs = np.random.normal(mu, sigma, size = samples)\n",
    "\n",
    "print(xs)"
   ]
  },
  {
   "cell_type": "markdown",
   "metadata": {
    "id": "hv_jOdwbPDlT"
   },
   "source": [
    "Más allá de lo ilustrativo del caso, muchas veces es muy útil generar *sets* de datos o *sampleos* para contrastarlos con mediciones experimentales. En particular, esto permite verificar mediantes *tests* si las mediciones experimentales provienen de la distribución esperada; o, de igual forma, verificar con cierto grado de certeza si existen datos adulterados."
   ]
  },
  {
   "cell_type": "markdown",
   "metadata": {
    "id": "d-JMgv7A-E05"
   },
   "source": [
    "## 2.7. Comentarios sobre la guía\n",
    "\n",
    "Esta breve guía tuvo como objetivo introducirte en algunas formas posibles de analizar tus resultados. La sugerencia más importante es que intentes reproducir estas herramientas con tus propias mediciones y que efectúes, de a poco, cambios con tus propios códigos. Asimismo, intentá investigar cómo mejorar la representación de tus gráficos con leyendas, ejes y demás: es importante que los resultados (finales) que presentes estén bien confeccionados."
   ]
  },
  {
   "cell_type": "markdown",
   "metadata": {
    "id": "Dwyxbl3n-l2A"
   },
   "source": [
    "> *Documento elaborado por Adán Garros (adan@garros.net) bajo licencia [CC BY-NC-SA 4.0](https://creativecommons.org/licenses/by-nc-sa/4.0/deed.es). Se agradece especialmente a Verónica Pérez Schuster por la revisión del contenido. Resultan bienvenidos comentarios y sugerencias. Última actualización: 2022-10-03.*"
   ]
  }
 ],
 "metadata": {
  "colab": {
   "collapsed_sections": [],
   "provenance": []
  },
  "kernelspec": {
   "display_name": "Python 3 (ipykernel)",
   "language": "python",
   "name": "python3"
  },
  "language_info": {
   "codemirror_mode": {
    "name": "ipython",
    "version": 3
   },
   "file_extension": ".py",
   "mimetype": "text/x-python",
   "name": "python",
   "nbconvert_exporter": "python",
   "pygments_lexer": "ipython3",
   "version": "3.10.12"
  }
 },
 "nbformat": 4,
 "nbformat_minor": 0
}
