{
 "cells": [
  {
   "cell_type": "code",
   "execution_count": 80,
   "id": "b37d7a64-e067-4bbb-b123-00fa0e8560ab",
   "metadata": {},
   "outputs": [],
   "source": [
    "import numpy as np\n",
    "import pyvisa as visa\n",
    "import time\n",
    "from matplotlib import pyplot as plt\n",
    "import pandas as pd"
   ]
  },
  {
   "cell_type": "code",
   "execution_count": 2,
   "id": "644074a6-d4b7-403f-bdaa-ebbb3b201549",
   "metadata": {},
   "outputs": [],
   "source": [
    "rm = visa.ResourceManager()"
   ]
  },
  {
   "cell_type": "code",
   "execution_count": 3,
   "id": "b0e74e1d-6f20-475e-b32f-ca5e03b4dd76",
   "metadata": {},
   "outputs": [
    {
     "data": {
      "text/plain": [
       "('USB0::0x0699::0x0368::C017041::INSTR',\n",
       " 'USB0::0x0699::0x0353::2139465::INSTR',\n",
       " 'ASRL1::INSTR',\n",
       " 'ASRL10::INSTR')"
      ]
     },
     "execution_count": 3,
     "metadata": {},
     "output_type": "execute_result"
    }
   ],
   "source": [
    "rm.list_resources()"
   ]
  },
  {
   "cell_type": "code",
   "execution_count": 4,
   "id": "182cc5a6-5f03-4c7a-8316-b5c6ab682bd3",
   "metadata": {},
   "outputs": [],
   "source": [
    "resource_name_f=  'USB0::0x0699::0x0353::2139465::INSTR'\n",
    "resource_name_o = 'USB0::0x0699::0x0368::C017041::INSTR'\n",
    "\n",
    "osci = rm.open_resource(resource_name_o)\n",
    "fungen = rm.open_resource(resource_name_f)"
   ]
  },
  {
   "cell_type": "code",
   "execution_count": 5,
   "id": "efdea71c-0835-4791-a66a-fb55f15a7385",
   "metadata": {},
   "outputs": [
    {
     "data": {
      "text/plain": [
       "'TEKTRONIX,TBS 1052B-EDU,C017041,CF:91.1CT FV:v4.06\\n'"
      ]
     },
     "execution_count": 5,
     "metadata": {},
     "output_type": "execute_result"
    }
   ],
   "source": [
    "osci.query('*IDN?')"
   ]
  },
  {
   "cell_type": "code",
   "execution_count": 6,
   "id": "e6f2224a-e272-4515-b67d-810e53330827",
   "metadata": {},
   "outputs": [
    {
     "data": {
      "text/plain": [
       "'TEKTRONIX,AFG1022,2139465,SCPI:99.0 FV:V1.2.7\\n'"
      ]
     },
     "execution_count": 6,
     "metadata": {},
     "output_type": "execute_result"
    }
   ],
   "source": [
    "fungen.query('*IDN?')"
   ]
  },
  {
   "cell_type": "code",
   "execution_count": 111,
   "id": "e6a4a3dc-ed73-429b-916a-de30b909b2b6",
   "metadata": {},
   "outputs": [],
   "source": [
    "def barrido_f(f_min,f_max,n,scale='log'):\n",
    "    if scale == 'log':\n",
    "        freqs = np.logspace(f_min,f_max,n)\n",
    "    elif scale == 'lin':\n",
    "        freqs = np.linspace(f_min,f_max,n)\n",
    "    else:\n",
    "        print('Escala inválida')\n",
    "        return\n",
    "    time_s = time.time()\n",
    "    for freq in freqs:\n",
    "        fungen.write(f'SOURCE1:FREQ {freq}')\n",
    "        time.sleep(1)\n",
    "        osci.write('AUTOS exec')\n",
    "        time.sleep(6)\n",
    "        osci.write('DAT SOU: CH1')\n",
    "        xze, xin = osci.query_ascii_values('WFMPRE:XZE?;XIN?', separator=';')\n",
    "        \n",
    "        osci.write('ACQ:STATE STOP')\n",
    "        yze1, ymu1, yoff1 = osci.query_ascii_values('WFMPRE:YZE?;YMU?;YOFF?;', separator=';')\n",
    "        osci.write('DAT:SOU CH2')\n",
    "        yze2, ymu2, yoff2 = osci.query_ascii_values('WFMPRE:YZE?;YMU?;YOFF?;', separator=';')\n",
    "        \n",
    "        osci.write('DAT:ENC RPB')\n",
    "        osci.write('DAT:WID 1')\n",
    "        \n",
    "        osci.write(\"DAT:SOU CH1\")\n",
    "        data1 = osci.query_binary_values('CURV?', datatype='B', container=np.array)\n",
    "        osci.write(\"DAT:SOU CH2\")\n",
    "        data2 = osci.query_binary_values('CURV?', datatype='B', container=np.array)\n",
    "        tiempo = xze + np.arange(len(data1)) * xin\n",
    "        data1v = (data1 - yoff1) * ymu1 + yze1\n",
    "        ata2v = (data2 - yoff2) * ymu2 + yze2\n",
    "        \n",
    "        #data1v = data1 * ymu1 + yze1\n",
    "        #data2v = data2 * ymu2 + yze2\n",
    "        osci.write('ACQ:STATE RUN')\n",
    "        \n",
    "        df = pd.DataFrame({'t':tiempo,'V_e':data1v,'V_m':data2v})        \n",
    "        df.to_csv(f'plots seke/{np.round(freq,0)}.csv',index=False)"
   ]
  },
  {
   "cell_type": "code",
   "execution_count": 126,
   "id": "86caaa66-a5c3-4b1f-89f0-e71477090a18",
   "metadata": {},
   "outputs": [],
   "source": [
    "barrido_f(1000,1000000,10,scale='lin')"
   ]
  },
  {
   "cell_type": "code",
   "execution_count": 120,
   "id": "29ec7244-f22b-4209-8bca-d754dfebf1fb",
   "metadata": {},
   "outputs": [
    {
     "ename": "SyntaxError",
     "evalue": "unexpected character after line continuation character (Temp/ipykernel_14556/1689937074.py, line 1)",
     "output_type": "error",
     "traceback": [
      "\u001b[1;36m  File \u001b[1;32m\"C:\\Users\\PUBLIC~1.LAB\\AppData\\Local\\Temp/ipykernel_14556/1689937074.py\"\u001b[1;36m, line \u001b[1;32m1\u001b[0m\n\u001b[1;33m    df = pd.read_csv('C:\\Users\\publico.LABORATORIOS\\Downloads\\plots seke\\'med 1 (4,6,10)'\\1000000.0.csv´ )\u001b[0m\n\u001b[1;37m                                                                                                         ^\u001b[0m\n\u001b[1;31mSyntaxError\u001b[0m\u001b[1;31m:\u001b[0m unexpected character after line continuation character\n"
     ]
    }
   ],
   "source": [
    "df = pd.read_csv('C:\\Users\\publico.LABORATORIOS\\Downloads\\plots seke\\'med 1 (4,6,10)'\\1000000.0.csv´ )"
   ]
  },
  {
   "cell_type": "code",
   "execution_count": null,
   "id": "0bee12aa-542c-4caa-adc1-178edc6284d8",
   "metadata": {},
   "outputs": [],
   "source": []
  }
 ],
 "metadata": {
  "kernelspec": {
   "display_name": "Python 3 (ipykernel)",
   "language": "python",
   "name": "python3"
  },
  "language_info": {
   "codemirror_mode": {
    "name": "ipython",
    "version": 3
   },
   "file_extension": ".py",
   "mimetype": "text/x-python",
   "name": "python",
   "nbconvert_exporter": "python",
   "pygments_lexer": "ipython3",
   "version": "3.9.7"
  },
  "toc-autonumbering": false,
  "toc-showmarkdowntxt": true
 },
 "nbformat": 4,
 "nbformat_minor": 5
}
