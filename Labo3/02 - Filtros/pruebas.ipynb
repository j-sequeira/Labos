{
 "cells": [
  {
   "cell_type": "code",
   "execution_count": 2,
   "id": "03e1ee33-fd17-44eb-bfe3-60ef56c3b725",
   "metadata": {},
   "outputs": [],
   "source": [
    "import pandas as pd\n",
    "from matplotlib import pyplot as plt\n",
    "import os\n",
    "import numpy as np"
   ]
  },
  {
   "cell_type": "code",
   "execution_count": 66,
   "id": "f6366c7d-a6c5-4fac-a200-36326fc757cd",
   "metadata": {
    "tags": []
   },
   "outputs": [
    {
     "data": {
      "image/png": "[encoded data removed]",
      "text/plain": [
       "<Figure size 432x288 with 1 Axes>"
      ]
     },
     "metadata": {
      "needs_background": "light"
     },
     "output_type": "display_data"
    }
   ],
   "source": [
    "files = os.listdir('plots seke/filtros/pasabajos/med 5')\n",
    "\n",
    "names = []\n",
    "for i in range(len(files)):\n",
    "    if files[i].endswith('.csv'):\n",
    "        names.append(float(files[i][:-4]))\n",
    "names = np.array(names)\n",
    "\n",
    "m1 = []\n",
    "for i in range(len(names)):\n",
    "    df = pd.read_csv(f'plots seke/filtros/pasabajos/med 5/{names[i]}.csv')\n",
    "    m1.append((max(df.V_m)-min(df.V_m))/(max(df.V_e)-min(df.V_e)))\n",
    "plt.scatter(names/10000,m1)\n",
    "plt.xscale('log')"
   ]
  },
  {
   "cell_type": "code",
   "execution_count": 54,
   "id": "540ee153-c44a-41ba-843a-88ea5384a7c3",
   "metadata": {
    "tags": []
   },
   "outputs": [
    {
     "data": {
      "image/png": "[encoded data removed]",
      "text/plain": [
       "<Figure size 432x288 with 1 Axes>"
      ]
     },
     "metadata": {
      "needs_background": "light"
     },
     "output_type": "display_data"
    }
   ],
   "source": [
    "files = os.listdir('plots seke/filtros/pasaaltos/mal/med 1')\n",
    "\n",
    "names = []\n",
    "for i in range(len(files)):\n",
    "    if files[i].endswith('.csv'):\n",
    "        names.append(float(files[i][:-4]))\n",
    "names = np.array(names)\n",
    "\n",
    "m1 = []\n",
    "for i in range(len(names)):\n",
    "    df = pd.read_csv(f'plots seke/filtros/pasaaltos/mal/med 1/{names[i]}.csv')\n",
    "    m1.append((max(df.V_m)-min(df.V_m))/(max(df.V_e)-min(df.V_e)))\n",
    "plt.scatter(names/10000,m1)\n",
    "plt.xscale('log')"
   ]
  },
  {
   "cell_type": "code",
   "execution_count": 64,
   "id": "f8c619a5-2a19-4991-bc8a-2bbb335e27bf",
   "metadata": {},
   "outputs": [
    {
     "data": {
      "text/plain": [
       "31622.776601683792"
      ]
     },
     "execution_count": 64,
     "metadata": {},
     "output_type": "execute_result"
    }
   ],
   "source": [
    "10**4.5"
   ]
  }
 ],
 "metadata": {
  "kernelspec": {
   "display_name": "Python 3 (ipykernel)",
   "language": "python",
   "name": "python3"
  },
  "language_info": {
   "codemirror_mode": {
    "name": "ipython",
    "version": 3
   },
   "file_extension": ".py",
   "mimetype": "text/x-python",
   "name": "python",
   "nbconvert_exporter": "python",
   "pygments_lexer": "ipython3",
   "version": "3.10.12"
  }
 },
 "nbformat": 4,
 "nbformat_minor": 5
}
