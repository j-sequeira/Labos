{
 "cells": [
  {
   "cell_type": "code",
   "execution_count": 1,
   "metadata": {},
   "outputs": [],
   "source": [
    "from matplotlib import pyplot as plt\n",
    "import numpy as np"
   ]
  },
  {
   "cell_type": "code",
   "execution_count": 2,
   "metadata": {},
   "outputs": [],
   "source": [
    "import pyvisa as visa"
   ]
  },
  {
   "cell_type": "code",
   "execution_count": 3,
   "metadata": {},
   "outputs": [],
   "source": [
    "rm = visa.ResourceManager()"
   ]
  },
  {
   "cell_type": "code",
   "execution_count": 8,
   "metadata": {},
   "outputs": [
    {
     "data": {
      "text/plain": [
       "()"
      ]
     },
     "execution_count": 8,
     "metadata": {},
     "output_type": "execute_result"
    }
   ],
   "source": [
    "rm.list_resources()"
   ]
  },
  {
   "cell_type": "code",
   "execution_count": 5,
   "metadata": {},
   "outputs": [],
   "source": [
    "resource_name = 'USB0::0xF4ED::0xEE3A::::INSTR'"
   ]
  },
  {
   "cell_type": "code",
   "execution_count": 6,
   "metadata": {},
   "outputs": [
    {
     "ename": "VisaIOError",
     "evalue": "VI_ERROR_INV_RSRC_NAME (-1073807342): Invalid resource reference specified. Parsing error.",
     "output_type": "error",
     "traceback": [
      "\u001b[0;31m---------------------------------------------------------------------------\u001b[0m",
      "\u001b[0;31mValueError\u001b[0m                                Traceback (most recent call last)",
      "File \u001b[0;32m~/.local/lib/python3.10/site-packages/pyvisa/rname.py:244\u001b[0m, in \u001b[0;36mResourceName.from_string\u001b[0;34m(cls, resource_name)\u001b[0m\n\u001b[1;32m    243\u001b[0m \u001b[38;5;28;01mtry\u001b[39;00m:\n\u001b[0;32m--> 244\u001b[0m     rn \u001b[38;5;241m=\u001b[39m \u001b[43msubclass\u001b[49m\u001b[38;5;241;43m.\u001b[39;49m\u001b[43mfrom_parts\u001b[49m\u001b[43m(\u001b[49m\u001b[38;5;241;43m*\u001b[39;49m\u001b[43mparts\u001b[49m\u001b[43m)\u001b[49m\n\u001b[1;32m    245\u001b[0m     rn\u001b[38;5;241m.\u001b[39muser \u001b[38;5;241m=\u001b[39m resource_name\n",
      "File \u001b[0;32m~/.local/lib/python3.10/site-packages/pyvisa/rname.py:313\u001b[0m, in \u001b[0;36mResourceName.from_parts\u001b[0;34m(cls, *parts)\u001b[0m\n\u001b[1;32m    312\u001b[0m \u001b[38;5;28;01mif\u001b[39;00m \u001b[38;5;129;01mnot\u001b[39;00m p:\n\u001b[0;32m--> 313\u001b[0m     \u001b[38;5;28;01mraise\u001b[39;00m \u001b[38;5;167;01mValueError\u001b[39;00m(k\u001b[38;5;241m.\u001b[39mname \u001b[38;5;241m+\u001b[39m \u001b[38;5;124m\"\u001b[39m\u001b[38;5;124m part is mandatory\u001b[39m\u001b[38;5;124m\"\u001b[39m)\n\u001b[1;32m    314\u001b[0m kwargs[k\u001b[38;5;241m.\u001b[39mname] \u001b[38;5;241m=\u001b[39m p\n",
      "\u001b[0;31mValueError\u001b[0m: serial_number part is mandatory",
      "\nDuring handling of the above exception, another exception occurred:\n",
      "\u001b[0;31mInvalidResourceName\u001b[0m                       Traceback (most recent call last)",
      "File \u001b[0;32m~/.local/lib/python3.10/site-packages/pyvisa_py/highlevel.py:156\u001b[0m, in \u001b[0;36mPyVisaLibrary.open\u001b[0;34m(self, session, resource_name, access_mode, open_timeout)\u001b[0m\n\u001b[1;32m    155\u001b[0m \u001b[38;5;28;01mtry\u001b[39;00m:\n\u001b[0;32m--> 156\u001b[0m     parsed \u001b[38;5;241m=\u001b[39m \u001b[43mrname\u001b[49m\u001b[38;5;241;43m.\u001b[39;49m\u001b[43mparse_resource_name\u001b[49m\u001b[43m(\u001b[49m\u001b[43mresource_name\u001b[49m\u001b[43m)\u001b[49m\n\u001b[1;32m    157\u001b[0m \u001b[38;5;28;01mexcept\u001b[39;00m rname\u001b[38;5;241m.\u001b[39mInvalidResourceName:\n",
      "File \u001b[0;32m~/.local/lib/python3.10/site-packages/pyvisa/rname.py:248\u001b[0m, in \u001b[0;36mResourceName.from_string\u001b[0;34m(cls, resource_name)\u001b[0m\n\u001b[1;32m    247\u001b[0m     \u001b[38;5;28;01mexcept\u001b[39;00m (\u001b[38;5;167;01mValueError\u001b[39;00m, \u001b[38;5;167;01mTypeError\u001b[39;00m) \u001b[38;5;28;01mas\u001b[39;00m ex:\n\u001b[0;32m--> 248\u001b[0m         \u001b[38;5;28;01mraise\u001b[39;00m InvalidResourceName\u001b[38;5;241m.\u001b[39mbad_syntax(\n\u001b[1;32m    249\u001b[0m             subclass\u001b[38;5;241m.\u001b[39m_visa_syntax, resource_name, ex\n\u001b[1;32m    250\u001b[0m         )\n\u001b[1;32m    252\u001b[0m \u001b[38;5;28;01mraise\u001b[39;00m InvalidResourceName(\n\u001b[1;32m    253\u001b[0m     \u001b[38;5;124m\"\u001b[39m\u001b[38;5;124mCould not parse \u001b[39m\u001b[38;5;132;01m%s\u001b[39;00m\u001b[38;5;124m: unknown interface type\u001b[39m\u001b[38;5;124m\"\u001b[39m \u001b[38;5;241m%\u001b[39m resource_name\n\u001b[1;32m    254\u001b[0m )\n",
      "\u001b[0;31mInvalidResourceName\u001b[0m: Could not parse 'USB0::0xF4ED::0xEE3A::::INSTR'. The syntax is 'USB[board]::manufacturer id::model code::serial number[::usb interface number][::INSTR]' (serial_number part is mandatory).",
      "\nDuring handling of the above exception, another exception occurred:\n",
      "\u001b[0;31mVisaIOError\u001b[0m                               Traceback (most recent call last)",
      "Cell \u001b[0;32mIn[6], line 1\u001b[0m\n\u001b[0;32m----> 1\u001b[0m fungen \u001b[38;5;241m=\u001b[39m \u001b[43mrm\u001b[49m\u001b[38;5;241;43m.\u001b[39;49m\u001b[43mopen_resource\u001b[49m\u001b[43m(\u001b[49m\u001b[43mresource_name\u001b[49m\u001b[43m)\u001b[49m\n",
      "File \u001b[0;32m~/.local/lib/python3.10/site-packages/pyvisa/highlevel.py:3284\u001b[0m, in \u001b[0;36mResourceManager.open_resource\u001b[0;34m(self, resource_name, access_mode, open_timeout, resource_pyclass, **kwargs)\u001b[0m\n\u001b[1;32m   3278\u001b[0m     \u001b[38;5;28;01mif\u001b[39;00m \u001b[38;5;129;01mnot\u001b[39;00m present:\n\u001b[1;32m   3279\u001b[0m         \u001b[38;5;28;01mraise\u001b[39;00m \u001b[38;5;167;01mValueError\u001b[39;00m(\n\u001b[1;32m   3280\u001b[0m             \u001b[38;5;124m\"\u001b[39m\u001b[38;5;132;01m%r\u001b[39;00m\u001b[38;5;124m is not a valid attribute for type \u001b[39m\u001b[38;5;132;01m%s\u001b[39;00m\u001b[38;5;124m\"\u001b[39m\n\u001b[1;32m   3281\u001b[0m             \u001b[38;5;241m%\u001b[39m (key, res\u001b[38;5;241m.\u001b[39m\u001b[38;5;18m__class__\u001b[39m\u001b[38;5;241m.\u001b[39m\u001b[38;5;18m__name__\u001b[39m)\n\u001b[1;32m   3282\u001b[0m         )\n\u001b[0;32m-> 3284\u001b[0m \u001b[43mres\u001b[49m\u001b[38;5;241;43m.\u001b[39;49m\u001b[43mopen\u001b[49m\u001b[43m(\u001b[49m\u001b[43maccess_mode\u001b[49m\u001b[43m,\u001b[49m\u001b[43m \u001b[49m\u001b[43mopen_timeout\u001b[49m\u001b[43m)\u001b[49m\n\u001b[1;32m   3286\u001b[0m \u001b[38;5;28;01mfor\u001b[39;00m key, value \u001b[38;5;129;01min\u001b[39;00m kwargs\u001b[38;5;241m.\u001b[39mitems():\n\u001b[1;32m   3287\u001b[0m     \u001b[38;5;28msetattr\u001b[39m(res, key, value)\n",
      "File \u001b[0;32m~/.local/lib/python3.10/site-packages/pyvisa/resources/resource.py:282\u001b[0m, in \u001b[0;36mResource.open\u001b[0;34m(self, access_mode, open_timeout)\u001b[0m\n\u001b[1;32m    278\u001b[0m logger\u001b[38;5;241m.\u001b[39mdebug(\u001b[38;5;124m\"\u001b[39m\u001b[38;5;132;01m%s\u001b[39;00m\u001b[38;5;124m - opening ...\u001b[39m\u001b[38;5;124m\"\u001b[39m, \u001b[38;5;28mself\u001b[39m\u001b[38;5;241m.\u001b[39m_resource_name, extra\u001b[38;5;241m=\u001b[39m\u001b[38;5;28mself\u001b[39m\u001b[38;5;241m.\u001b[39m_logging_extra)\n\u001b[1;32m    279\u001b[0m \u001b[38;5;28;01mwith\u001b[39;00m \u001b[38;5;28mself\u001b[39m\u001b[38;5;241m.\u001b[39m_resource_manager\u001b[38;5;241m.\u001b[39mignore_warning(\n\u001b[1;32m    280\u001b[0m     constants\u001b[38;5;241m.\u001b[39mStatusCode\u001b[38;5;241m.\u001b[39msuccess_device_not_present\n\u001b[1;32m    281\u001b[0m ):\n\u001b[0;32m--> 282\u001b[0m     \u001b[38;5;28mself\u001b[39m\u001b[38;5;241m.\u001b[39msession, status \u001b[38;5;241m=\u001b[39m \u001b[38;5;28;43mself\u001b[39;49m\u001b[38;5;241;43m.\u001b[39;49m\u001b[43m_resource_manager\u001b[49m\u001b[38;5;241;43m.\u001b[39;49m\u001b[43mopen_bare_resource\u001b[49m\u001b[43m(\u001b[49m\n\u001b[1;32m    283\u001b[0m \u001b[43m        \u001b[49m\u001b[38;5;28;43mself\u001b[39;49m\u001b[38;5;241;43m.\u001b[39;49m\u001b[43m_resource_name\u001b[49m\u001b[43m,\u001b[49m\u001b[43m \u001b[49m\u001b[43maccess_mode\u001b[49m\u001b[43m,\u001b[49m\u001b[43m \u001b[49m\u001b[43mopen_timeout\u001b[49m\n\u001b[1;32m    284\u001b[0m \u001b[43m    \u001b[49m\u001b[43m)\u001b[49m\n\u001b[1;32m    286\u001b[0m     \u001b[38;5;28;01mif\u001b[39;00m status \u001b[38;5;241m==\u001b[39m constants\u001b[38;5;241m.\u001b[39mStatusCode\u001b[38;5;241m.\u001b[39msuccess_device_not_present:\n\u001b[1;32m    287\u001b[0m         \u001b[38;5;66;03m# The device was not ready when we opened the session.\u001b[39;00m\n\u001b[1;32m    288\u001b[0m         \u001b[38;5;66;03m# Now it gets five seconds more to become ready.\u001b[39;00m\n\u001b[1;32m    289\u001b[0m         \u001b[38;5;66;03m# Every 0.1 seconds we probe it with viClear.\u001b[39;00m\n\u001b[1;32m    290\u001b[0m         start_time \u001b[38;5;241m=\u001b[39m time\u001b[38;5;241m.\u001b[39mtime()\n",
      "File \u001b[0;32m~/.local/lib/python3.10/site-packages/pyvisa/highlevel.py:3209\u001b[0m, in \u001b[0;36mResourceManager.open_bare_resource\u001b[0;34m(self, resource_name, access_mode, open_timeout)\u001b[0m\n\u001b[1;32m   3180\u001b[0m \u001b[38;5;28;01mdef\u001b[39;00m \u001b[38;5;21mopen_bare_resource\u001b[39m(\n\u001b[1;32m   3181\u001b[0m     \u001b[38;5;28mself\u001b[39m,\n\u001b[1;32m   3182\u001b[0m     resource_name: \u001b[38;5;28mstr\u001b[39m,\n\u001b[1;32m   3183\u001b[0m     access_mode: constants\u001b[38;5;241m.\u001b[39mAccessModes \u001b[38;5;241m=\u001b[39m constants\u001b[38;5;241m.\u001b[39mAccessModes\u001b[38;5;241m.\u001b[39mno_lock,\n\u001b[1;32m   3184\u001b[0m     open_timeout: \u001b[38;5;28mint\u001b[39m \u001b[38;5;241m=\u001b[39m constants\u001b[38;5;241m.\u001b[39mVI_TMO_IMMEDIATE,\n\u001b[1;32m   3185\u001b[0m ) \u001b[38;5;241m-\u001b[39m\u001b[38;5;241m>\u001b[39m Tuple[VISASession, StatusCode]:\n\u001b[1;32m   3186\u001b[0m \u001b[38;5;250m    \u001b[39m\u001b[38;5;124;03m\"\"\"Open the specified resource without wrapping into a class.\u001b[39;00m\n\u001b[1;32m   3187\u001b[0m \n\u001b[1;32m   3188\u001b[0m \u001b[38;5;124;03m    Parameters\u001b[39;00m\n\u001b[0;32m   (...)\u001b[0m\n\u001b[1;32m   3207\u001b[0m \n\u001b[1;32m   3208\u001b[0m \u001b[38;5;124;03m    \"\"\"\u001b[39;00m\n\u001b[0;32m-> 3209\u001b[0m     \u001b[38;5;28;01mreturn\u001b[39;00m \u001b[38;5;28;43mself\u001b[39;49m\u001b[38;5;241;43m.\u001b[39;49m\u001b[43mvisalib\u001b[49m\u001b[38;5;241;43m.\u001b[39;49m\u001b[43mopen\u001b[49m\u001b[43m(\u001b[49m\u001b[38;5;28;43mself\u001b[39;49m\u001b[38;5;241;43m.\u001b[39;49m\u001b[43msession\u001b[49m\u001b[43m,\u001b[49m\u001b[43m \u001b[49m\u001b[43mresource_name\u001b[49m\u001b[43m,\u001b[49m\u001b[43m \u001b[49m\u001b[43maccess_mode\u001b[49m\u001b[43m,\u001b[49m\u001b[43m \u001b[49m\u001b[43mopen_timeout\u001b[49m\u001b[43m)\u001b[49m\n",
      "File \u001b[0;32m~/.local/lib/python3.10/site-packages/pyvisa_py/highlevel.py:160\u001b[0m, in \u001b[0;36mPyVisaLibrary.open\u001b[0;34m(self, session, resource_name, access_mode, open_timeout)\u001b[0m\n\u001b[1;32m    156\u001b[0m     parsed \u001b[38;5;241m=\u001b[39m rname\u001b[38;5;241m.\u001b[39mparse_resource_name(resource_name)\n\u001b[1;32m    157\u001b[0m \u001b[38;5;28;01mexcept\u001b[39;00m rname\u001b[38;5;241m.\u001b[39mInvalidResourceName:\n\u001b[1;32m    158\u001b[0m     \u001b[38;5;28;01mreturn\u001b[39;00m (\n\u001b[1;32m    159\u001b[0m         VISASession(\u001b[38;5;241m0\u001b[39m),\n\u001b[0;32m--> 160\u001b[0m         \u001b[38;5;28;43mself\u001b[39;49m\u001b[38;5;241;43m.\u001b[39;49m\u001b[43mhandle_return_value\u001b[49m\u001b[43m(\u001b[49m\u001b[38;5;28;43;01mNone\u001b[39;49;00m\u001b[43m,\u001b[49m\u001b[43m \u001b[49m\u001b[43mStatusCode\u001b[49m\u001b[38;5;241;43m.\u001b[39;49m\u001b[43merror_invalid_resource_name\u001b[49m\u001b[43m)\u001b[49m,\n\u001b[1;32m    161\u001b[0m     )\n\u001b[1;32m    163\u001b[0m \u001b[38;5;28mcls\u001b[39m \u001b[38;5;241m=\u001b[39m sessions\u001b[38;5;241m.\u001b[39mSession\u001b[38;5;241m.\u001b[39mget_session_class(\n\u001b[1;32m    164\u001b[0m     parsed\u001b[38;5;241m.\u001b[39minterface_type_const, parsed\u001b[38;5;241m.\u001b[39mresource_class\n\u001b[1;32m    165\u001b[0m )\n\u001b[1;32m    167\u001b[0m sess \u001b[38;5;241m=\u001b[39m \u001b[38;5;28mcls\u001b[39m(session, resource_name, parsed, open_timeout)\n",
      "File \u001b[0;32m~/.local/lib/python3.10/site-packages/pyvisa/highlevel.py:251\u001b[0m, in \u001b[0;36mVisaLibraryBase.handle_return_value\u001b[0;34m(self, session, status_code)\u001b[0m\n\u001b[1;32m    248\u001b[0m     \u001b[38;5;28mself\u001b[39m\u001b[38;5;241m.\u001b[39m_last_status_in_session[session] \u001b[38;5;241m=\u001b[39m rv\n\u001b[1;32m    250\u001b[0m \u001b[38;5;28;01mif\u001b[39;00m rv \u001b[38;5;241m<\u001b[39m \u001b[38;5;241m0\u001b[39m:\n\u001b[0;32m--> 251\u001b[0m     \u001b[38;5;28;01mraise\u001b[39;00m errors\u001b[38;5;241m.\u001b[39mVisaIOError(rv)\n\u001b[1;32m    253\u001b[0m \u001b[38;5;28;01mif\u001b[39;00m rv \u001b[38;5;129;01min\u001b[39;00m \u001b[38;5;28mself\u001b[39m\u001b[38;5;241m.\u001b[39missue_warning_on:\n\u001b[1;32m    254\u001b[0m     \u001b[38;5;28;01mif\u001b[39;00m session \u001b[38;5;129;01mand\u001b[39;00m rv \u001b[38;5;129;01mnot\u001b[39;00m \u001b[38;5;129;01min\u001b[39;00m \u001b[38;5;28mself\u001b[39m\u001b[38;5;241m.\u001b[39m_ignore_warning_in_session[session]:\n",
      "\u001b[0;31mVisaIOError\u001b[0m: VI_ERROR_INV_RSRC_NAME (-1073807342): Invalid resource reference specified. Parsing error."
     ]
    }
   ],
   "source": [
    "fungen = rm.open_resource(resource_name)"
   ]
  },
  {
   "cell_type": "code",
   "execution_count": null,
   "metadata": {},
   "outputs": [],
   "source": [
    "fungen.query('*IDN?')"
   ]
  },
  {
   "cell_type": "code",
   "execution_count": null,
   "metadata": {},
   "outputs": [],
   "source": [
    "fungen.write('FREQ 1000')"
   ]
  },
  {
   "cell_type": "code",
   "execution_count": null,
   "metadata": {},
   "outputs": [],
   "source": [
    "import time\n",
    "\n",
    "# Rampa logaritmica de frequencias \n",
    "# Los dos primeros numeros (1 y 3) indican los exponentes de los limites(10^1 y 10^3)\n",
    "# El siguiente el numero de pasos\n",
    "for freq in np.logspace(1, 3, 20):\n",
    "    fungen.write('FREQ %f' % freq)\n",
    "    time.sleep(0.1);\n",
    "\n",
    "# Rampa lineal de amplitudes\n",
    "# Los dos primeros numeros (0 y 1) indican los limites.\n",
    "# El siguiente el numero de pasos\n",
    "for amplitude in np.linspace(0, 1, 10):\n",
    "    fungen.write('VOLT %f' % amplitude)\n",
    "    time.sleep(0.1);    \n",
    "    \n",
    "    \n",
    "# Rampa lineal de offset\n",
    "# Los dos primeros numeros (0 y 1) indican los limites.\n",
    "# El siguiente el numero de pasos\n",
    "for offset in np.linspace(0, 1, 10):\n",
    "    fungen.write('VOLT:OFFS %f' % offset)\n",
    "    time.sleep(0.1);    \n",
    "     \n"
   ]
  },
  {
   "cell_type": "code",
   "execution_count": null,
   "metadata": {},
   "outputs": [],
   "source": [
    "fungen.write(\"SOURCE1:FREQ 1000\")"
   ]
  },
  {
   "cell_type": "code",
   "execution_count": null,
   "metadata": {},
   "outputs": [],
   "source": [
    "fungen.write(\"SOURCE1:FUNC SIN\")"
   ]
  },
  {
   "cell_type": "code",
   "execution_count": null,
   "metadata": {},
   "outputs": [],
   "source": []
  }
 ],
 "metadata": {
  "kernelspec": {
   "display_name": "Python 3 (ipykernel)",
   "language": "python",
   "name": "python3"
  },
  "language_info": {
   "codemirror_mode": {
    "name": "ipython",
    "version": 3
   },
   "file_extension": ".py",
   "mimetype": "text/x-python",
   "name": "python",
   "nbconvert_exporter": "python",
   "pygments_lexer": "ipython3",
   "version": "3.10.12"
  }
 },
 "nbformat": 4,
 "nbformat_minor": 2
}
