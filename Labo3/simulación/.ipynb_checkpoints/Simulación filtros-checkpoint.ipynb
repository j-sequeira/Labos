{
 "cells": [
  {
   "cell_type": "code",
   "execution_count": null,
   "id": "211e27fa-5397-490f-a814-3a7cac4d43f5",
   "metadata": {},
   "outputs": [],
   "source": [
    "import numpy as np\n",
    "import matplotlib.pyplot as plt\n",
    "import pandas as pd\n",
    "import matplotlib.colors as mcolors\n",
    "import matplotlib as mpl\n",
    "from scipy.optimize import curve_fit as cf\n",
    "from math import floor\n",
    "from scipy import *"
   ]
  },
  {
   "cell_type": "code",
   "execution_count": 2,
   "id": "01f8ea1a-84ad-4f2c-acbd-063bd22af146",
   "metadata": {},
   "outputs": [],
   "source": [
    "mpl.rcParams['lines.linewidth'] = 2\n",
    "mpl.rcParams['lines.markersize'] = 4\n",
    "#mpl.rcParams['figure.autolayout'] = True\n",
    "mpl.rcParams['font.size'] = 15\n",
    "mpl.rcParams['errorbar.capsize'] = 3\n",
    "mpl.rcParams['lines.markeredgewidth'] = 1\n",
    "mpl.rcParams['axes.axisbelow'] = True"
   ]
  },
  {
   "cell_type": "code",
   "execution_count": 3,
   "id": "294900eb-2f5b-4f87-b75e-fe42d1e7546d",
   "metadata": {},
   "outputs": [],
   "source": [
    "import os\n",
    "os.environ['PINT_ARRAY_PROTOCOL_FALLBACK'] = \"0\"\n",
    "import pint\n",
    "ureg = pint.UnitRegistry()\n",
    "Q_ = ureg.Quantity\n",
    "import warnings\n",
    "with warnings.catch_warnings():\n",
    "    warnings.simplefilter(\"ignore\")\n",
    "    Q_([])"
   ]
  },
  {
   "cell_type": "code",
   "execution_count": 4,
   "id": "ad08fa9a-a868-41e7-a37d-634168624612",
   "metadata": {},
   "outputs": [],
   "source": [
    "dcmls = lambda x : -int(floor(np.log10(abs(x))))\n",
    "\n",
    "lineal0 = lambda x,a : a*x\n",
    "lineal = lambda x,a,b : a*x+b\n",
    "\n",
    "ureg = pint.UnitRegistry()"
   ]
  },
  {
   "cell_type": "code",
   "execution_count": 32,
   "id": "2e02519d-c37e-4108-af9e-0dcb585b5583",
   "metadata": {},
   "outputs": [
    {
     "data": {
      "text/html": [
       "190.98669565705703 1/second"
      ],
      "text/latex": [
       "$190.98669565705703\\ \\frac{1}{\\mathrm{second}}$"
      ],
      "text/plain": [
       "190.98669565705703 <Unit('1 / second')>"
      ]
     },
     "execution_count": 32,
     "metadata": {},
     "output_type": "execute_result"
    }
   ],
   "source": [
    "R = 833.33 * ureg.ohm\n",
    "C = 1 * ureg.microfarad\n",
    "w0 = 1/(R*C).to_base_units()\n",
    "w0\n",
    "f0 = w0/(2*np.pi)\n",
    "f0"
   ]
  },
  {
   "cell_type": "code",
   "execution_count": 38,
   "id": "3cdd226a-a19e-48d4-a136-dd87b7b5fe7d",
   "metadata": {},
   "outputs": [
    {
     "data": {
      "text/plain": [
       "1200.0048000192"
      ]
     },
     "execution_count": 38,
     "metadata": {},
     "output_type": "execute_result"
    }
   ],
   "source": [
    "w0.magnitude"
   ]
  },
  {
   "cell_type": "code",
   "execution_count": 55,
   "id": "0b72b33d-1e92-4580-af63-8e11d639690a",
   "metadata": {},
   "outputs": [],
   "source": [
    "fs = np.round(np.logspace(np.log10(w0.magnitude*1e-1),np.log10(w0.magnitude*1e3),100)/(2*np.pi))"
   ]
  },
  {
   "cell_type": "code",
   "execution_count": 54,
   "id": "777edd0e-2ba5-4528-8150-250ae07fada5",
   "metadata": {},
   "outputs": [],
   "source": [
    "import subprocess\n",
    "import shutil"
   ]
  },
  {
   "cell_type": "code",
   "execution_count": 86,
   "id": "c8148c80-8535-46b2-a4e9-688f7e880515",
   "metadata": {},
   "outputs": [],
   "source": [
    "frequencies  = fs\n",
    "time_intervals = np.round(3/frequencies,10)\n",
    "max_timesteps = np.round(time_intervals*5e-8/0.01,10)"
   ]
  },
  {
   "cell_type": "code",
   "execution_count": null,
   "id": "d1f9eec7-2837-46ac-8aa3-17a5c76fcf7b",
   "metadata": {},
   "outputs": [],
   "source": []
  },
  {
   "cell_type": "code",
   "execution_count": 87,
   "id": "a177dbe5-779e-48c4-9728-59d88fcf23af",
   "metadata": {
    "scrolled": true
   },
   "outputs": [
    {
     "name": "stdout",
     "output_type": "stream",
     "text": [
      "19.0 0.1578947368 0.7895\n",
      "21.0 0.1428571429 0.7142999999999999\n",
      "23.0 0.1304347826 0.6522\n",
      "25.0 0.12 0.6\n",
      "28.0 0.1071428571 0.5357000000000001\n",
      "30.0 0.1 0.5\n",
      "33.0 0.0909090909 0.4545\n",
      "37.0 0.0810810811 0.40540000000000004\n",
      "40.0 0.075 0.375\n",
      "44.0 0.0681818182 0.3409\n",
      "48.0 0.0625 0.3125\n",
      "53.0 0.0566037736 0.283\n",
      "58.0 0.0517241379 0.2586\n",
      "64.0 0.046875 0.2344\n",
      "70.0 0.0428571429 0.21430000000000002\n",
      "77.0 0.038961039 0.1948\n",
      "85.0 0.0352941176 0.1765\n",
      "93.0 0.0322580645 0.1613\n",
      "102.0 0.0294117647 0.14709999999999998\n",
      "112.0 0.0267857143 0.1339\n",
      "123.0 0.0243902439 0.12200000000000001\n",
      "135.0 0.0222222222 0.11109999999999999\n",
      "148.0 0.0202702703 0.10139999999999999\n",
      "162.0 0.0185185185 0.0926\n",
      "178.0 0.0168539326 0.0843\n",
      "195.0 0.0153846154 0.0769\n",
      "215.0 0.0139534884 0.0698\n",
      "235.0 0.0127659574 0.0638\n",
      "258.0 0.011627907 0.0581\n",
      "284.0 0.0105633803 0.0528\n",
      "311.0 0.0096463023 0.0482\n",
      "342.0 0.0087719298 0.0439\n",
      "375.0 0.008 0.04\n",
      "411.0 0.0072992701 0.036500000000000005\n",
      "452.0 0.0066371681 0.0332\n",
      "496.0 0.0060483871 0.030199999999999998\n",
      "544.0 0.0055147059 0.0276\n",
      "597.0 0.0050251256 0.0251\n",
      "655.0 0.0045801527 0.0229\n",
      "719.0 0.0041724618 0.0209\n",
      "789.0 0.0038022814 0.019000000000000003\n",
      "866.0 0.0034642032 0.0173\n",
      "951.0 0.0031545741 0.015799999999999998\n",
      "1043.0 0.0028763183 0.0144\n",
      "1145.0 0.0026200873 0.0131\n",
      "1257.0 0.0023866348 0.0119\n",
      "1379.0 0.0021754895 0.0109\n",
      "1514.0 0.0019815059 0.009899999999999999\n",
      "1661.0 0.0018061409 0.009\n",
      "1823.0 0.0016456391 0.0082\n",
      "2001.0 0.0014992504 0.0075\n",
      "2196.0 0.0013661202 0.0068\n",
      "2410.0 0.0012448133 0.0062\n",
      "2645.0 0.0011342155 0.005699999999999999\n",
      "2903.0 0.0010334137 0.005200000000000001\n",
      "3186.0 0.0009416196 0.0047\n",
      "3496.0 0.0008581236 0.0043\n",
      "3837.0 0.0007818608 0.0039000000000000003\n",
      "4212.0 0.0007122507 0.0036\n",
      "4622.0 0.0006490697 0.0032\n",
      "5073.0 0.0005913661 0.003\n",
      "5567.0 0.0005388899 0.0027\n",
      "6110.0 0.0004909984 0.0025\n",
      "6706.0 0.0004473606 0.0021999999999999997\n",
      "7360.0 0.0004076087 0.002\n",
      "8077.0 0.000371425 0.0019\n",
      "8865.0 0.0003384095 0.0017\n",
      "9729.0 0.0003083565 0.0015\n",
      "10678.0 0.0002809515 0.0014\n",
      "11719.0 0.0002559945 0.0013000000000000002\n",
      "12861.0 0.0002332634 0.0012\n",
      "14115.0 0.0002125399 0.0010999999999999998\n",
      "15492.0 0.0001936483 0.001\n",
      "17002.0 0.0001764498 0.0009\n",
      "18660.0 0.0001607717 0.0008\n",
      "20479.0 0.0001464915 0.0007\n",
      "22476.0 0.0001334757 0.0007\n",
      "24667.0 0.00012162 0.0006\n",
      "27072.0 0.0001108156 0.0006\n",
      "29711.0 0.0001009727 0.0005\n",
      "32608.0 9.2002e-05 0.0005\n",
      "35787.0 8.38293e-05 0.0004\n",
      "39277.0 7.63806e-05 0.0004\n",
      "43106.0 6.95959e-05 0.0003\n",
      "47309.0 6.34129e-05 0.0003\n",
      "51921.0 5.77801e-05 0.0003\n",
      "56984.0 5.26464e-05 0.0003\n",
      "62540.0 4.79693e-05 0.0002\n",
      "68637.0 4.37082e-05 0.0002\n",
      "75329.0 3.98253e-05 0.0002\n",
      "82674.0 3.62871e-05 0.0002\n",
      "90734.0 3.30637e-05 0.0002\n",
      "99581.0 3.01262e-05 0.0002\n",
      "109290.0 2.74499e-05 0.0001\n",
      "119945.0 2.50115e-05 0.0001\n",
      "131640.0 2.27894e-05 0.0001\n",
      "144474.0 2.0765e-05 0.0001\n",
      "158561.0 1.89202e-05 0.0001\n",
      "174020.0 1.72394e-05 0.0001\n",
      "190987.0 1.57079e-05 0.0001\n"
     ]
    }
   ],
   "source": [
    "for n in np.arange(0,100,1):\n",
    "    n = int(n)\n",
    "    print(frequencies[n],time_intervals[n],max_timesteps[n]*1e6)"
   ]
  },
  {
   "cell_type": "code",
   "execution_count": 113,
   "id": "f41c5264-a819-4db4-9401-b3be810e74b6",
   "metadata": {},
   "outputs": [
    {
     "data": {
      "text/html": [
       "0.0001 microsecond"
      ],
      "text/latex": [
       "$0.0001\\ \\mathrm{microsecond}$"
      ],
      "text/plain": [
       "0.0001 <Unit('microsecond')>"
      ]
     },
     "execution_count": 113,
     "metadata": {},
     "output_type": "execute_result"
    }
   ],
   "source": [
    "(1e-10 *ureg.second).to(ureg.microsecond)"
   ]
  },
  {
   "cell_type": "code",
   "execution_count": 109,
   "id": "cbf2223d-09f8-46bc-bd3a-56774e150cae",
   "metadata": {},
   "outputs": [
    {
     "data": {
      "text/plain": [
       "25.0"
      ]
     },
     "execution_count": 109,
     "metadata": {},
     "output_type": "execute_result"
    }
   ],
   "source": [
    "100/4"
   ]
  }
 ],
 "metadata": {
  "kernelspec": {
   "display_name": "Python 3 (ipykernel)",
   "language": "python",
   "name": "python3"
  },
  "language_info": {
   "codemirror_mode": {
    "name": "ipython",
    "version": 3
   },
   "file_extension": ".py",
   "mimetype": "text/x-python",
   "name": "python",
   "nbconvert_exporter": "python",
   "pygments_lexer": "ipython3",
   "version": "3.10.12"
  }
 },
 "nbformat": 4,
 "nbformat_minor": 5
}
